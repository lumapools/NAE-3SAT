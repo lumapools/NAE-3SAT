{
 "cells": [
  {
   "cell_type": "code",
   "execution_count": 2,
   "metadata": {},
   "outputs": [],
   "source": [
    "import random"
   ]
  },
  {
   "cell_type": "code",
   "execution_count": 3,
   "metadata": {},
   "outputs": [],
   "source": [
    "def are_valid_clause_variables(clause, num_variables):\n",
    "    for elem in clause:\n",
    "        if clause.count(elem) > 1 or (elem in clause and elem + num_variables in clause):\n",
    "            return False\n",
    "    return True"
   ]
  },
  {
   "cell_type": "code",
   "execution_count": 4,
   "metadata": {},
   "outputs": [],
   "source": [
    "def create_clause(list_of_variables, num_variables):\n",
    "    clause = \"\"\n",
    "    random_clause_variables = [0, 0, 0]\n",
    "    while not are_valid_clause_variables(random_clause_variables, num_variables):\n",
    "        random_clause_variables = random.sample(list_of_variables, 3)\n",
    "    \n",
    "    if random_clause_variables[0] >= num_variables:\n",
    "        clause += f\"n{random_clause_variables[0]-num_variables}\"\n",
    "    else:\n",
    "        clause += f\"{random_clause_variables[0]}\"\n",
    "\n",
    "    if random_clause_variables[1] >= num_variables:\n",
    "        clause += f\" n{random_clause_variables[1]-num_variables}\"\n",
    "    else:\n",
    "        clause += f\" {random_clause_variables[1]}\"\n",
    "\n",
    "    if random_clause_variables[2] >= num_variables:\n",
    "        clause += f\" n{random_clause_variables[2]-num_variables}\"\n",
    "    else:\n",
    "        clause += f\" {random_clause_variables[2]}\"\n",
    "    \n",
    "    return clause"
   ]
  },
  {
   "cell_type": "code",
   "execution_count": 5,
   "metadata": {},
   "outputs": [],
   "source": [
    "def exists(clause_to_check, set_to_check):\n",
    "    if clause_to_check == None:\n",
    "        return True\n",
    "    for clause in set_to_check:\n",
    "        count = 0\n",
    "        [v1, v2, v3] = clause.split(\" \")\n",
    "        for variable in clause_to_check.split(\" \"):\n",
    "            if v1 == variable or v2 == variable or v3 == variable:\n",
    "                count += 1\n",
    "        if count == 3:\n",
    "            return True\n",
    "    return False"
   ]
  },
  {
   "cell_type": "code",
   "execution_count": 6,
   "metadata": {},
   "outputs": [],
   "source": [
    "def fac(n):\n",
    "    if n == 0 or n == 1:\n",
    "        return 1\n",
    "    else:\n",
    "        return n * fac(n-1)"
   ]
  },
  {
   "cell_type": "code",
   "execution_count": 7,
   "metadata": {},
   "outputs": [],
   "source": [
    "def n_choose_k(n, k) -> int:\n",
    "    return int(fac(n)/(fac(k)*fac(n-k)))"
   ]
  },
  {
   "cell_type": "code",
   "execution_count": 8,
   "metadata": {},
   "outputs": [],
   "source": [
    "def create_cnf(num_variables, num_clauses, distinct_clauses=False):\n",
    "    if num_variables < 3:\n",
    "        print(\"ERROR: Not possible with num_var < 3\")\n",
    "        return None\n",
    "\n",
    "    if distinct_clauses and num_clauses > n_choose_k(2*num_variables, 3):\n",
    "        print(\"ERROR: Not possible. Decrease the number of clauses or increase the number of variables\")\n",
    "        return None\n",
    "    cnf = \"\"\n",
    "    list_of_variables = list(range(2*num_variables))\n",
    "    existing_clauses = set()\n",
    "    for _ in range(num_clauses-1):\n",
    "        created_clause = None\n",
    "        if distinct_clauses:\n",
    "            while created_clause == None or exists(created_clause, existing_clauses):\n",
    "                created_clause = create_clause(list_of_variables, num_variables)\n",
    "        else:\n",
    "            created_clause = create_clause(list_of_variables, num_variables)\n",
    "        cnf += f\"{created_clause},\"\n",
    "        existing_clauses.add(created_clause)\n",
    "    \n",
    "    created_clause = None\n",
    "    if distinct_clauses:\n",
    "        while created_clause == None or exists(created_clause, existing_clauses):\n",
    "            created_clause = create_clause(list_of_variables, num_variables)\n",
    "    else:\n",
    "        created_clause = create_clause(list_of_variables, num_variables)\n",
    "    cnf += f\"{created_clause}\"\n",
    "    return cnf"
   ]
  },
  {
   "cell_type": "code",
   "execution_count": 9,
   "metadata": {},
   "outputs": [],
   "source": [
    "def satisfies_cnf_nae(candidate_solution, cnf, num_variables):\n",
    "    clauses = cnf.split(\",\")\n",
    "    for clause in clauses:\n",
    "        clause_vars = clause.split(\" \")\n",
    "        clause_result = False\n",
    "        for i in range(len(clause_vars)):\n",
    "            if clause_vars[i].startswith(\"n\"):\n",
    "                clause_vars[i] = not candidate_solution[int(clause_vars[i][1:])-num_variables]\n",
    "            else:\n",
    "                clause_vars[i] = candidate_solution[int(clause_vars[i])]\n",
    "            clause_result += clause_vars[i]\n",
    "        if clause_result == 3 or clause_result == 0:\n",
    "            return False\n",
    "    return True\n"
   ]
  },
  {
   "cell_type": "code",
   "execution_count": 10,
   "metadata": {},
   "outputs": [],
   "source": [
    "def satisfiable_or_not(num_variables, cnf):\n",
    "    num_possible_combinations = 2**num_variables\n",
    "    for i in range(num_possible_combinations):\n",
    "        binary_string = format(i, 'b').zfill(num_variables)\n",
    "        candidate_solution = list(map(int, list(binary_string)))\n",
    "        if satisfies_cnf_nae(candidate_solution, cnf, num_variables):\n",
    "            return True, candidate_solution\n",
    "    return False, []"
   ]
  },
  {
   "cell_type": "code",
   "execution_count": 12,
   "metadata": {},
   "outputs": [
    {
     "name": "stdout",
     "output_type": "stream",
     "text": [
      "For 7/8 on 363/364\r"
     ]
    }
   ],
   "source": [
    "nae3sat_cnfs_file = open(\"nae3sat_cnfs.txt\", \"w\")\n",
    "non_nae3sat_cnfs_file = open(\"non-nae3sat_cnfs.txt\", \"w\")\n",
    "max_vars = 8\n",
    "for num_vars in range(3, max_vars):\n",
    "    for num_clauses in range(num_vars, n_choose_k(2*num_vars, 3)):\n",
    "        for i in range(20):\n",
    "            cnf = create_cnf(num_vars, num_clauses, distinct_clauses=False)\n",
    "            print(f\"For {num_vars}/{max_vars} on {num_clauses}/{n_choose_k(2*num_vars, 3)}\", end=\"\\r\")\n",
    "            if cnf != None:\n",
    "                satisfiable, solution = satisfiable_or_not(num_vars, cnf)\n",
    "                if satisfiable:\n",
    "                    nae3sat_cnfs_file.write(f\"{num_vars} -- {cnf}\\n\")\n",
    "                else:\n",
    "                    non_nae3sat_cnfs_file.write(f\"{num_vars} -- {cnf}\\n\")\n",
    "nae3sat_cnfs_file.close()\n",
    "non_nae3sat_cnfs_file.close()\n"
   ]
  }
 ],
 "metadata": {
  "kernelspec": {
   "display_name": "Python 3",
   "language": "python",
   "name": "python3"
  },
  "language_info": {
   "codemirror_mode": {
    "name": "ipython",
    "version": 3
   },
   "file_extension": ".py",
   "mimetype": "text/x-python",
   "name": "python",
   "nbconvert_exporter": "python",
   "pygments_lexer": "ipython3",
   "version": "3.10.6"
  },
  "orig_nbformat": 4
 },
 "nbformat": 4,
 "nbformat_minor": 2
}
