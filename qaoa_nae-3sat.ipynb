{
 "cells": [
  {
   "attachments": {},
   "cell_type": "markdown",
   "metadata": {},
   "source": [
    "## SAT-NAE\n",
    "\n",
    "### Aim\n",
    "Given a SAT problem, solve it such that for each clause, have at least one variable to be set to false."
   ]
  },
  {
   "attachments": {},
   "cell_type": "markdown",
   "metadata": {},
   "source": [
    "### Example\n",
    "\n",
    "We aim to solve a 3-SAT problem of the form\n",
    "\n",
    "$(x_1 \\lor x_2 \\lor \\neg x_3) \\land (x_3 \\lor \\neg x_1 \\lor \\neg x_6) \\land (\\neg x_2 \\lor x_4 \\lor x_5) \\land (\\neg x_4 \\lor \\neg x_5 \\lor x_6)$\n",
    "\n",
    "such that each clause $C$ must satisfy that for the three variables in $C$, at least one is true, and at least one is false. By setting $w_i = (-1)^{x_i}$, we aim to solve:\n",
    "\n",
    "$\\displaystyle \\max\\limits_{w_i \\in \\{-1,1\\}} \\sum\\limits_{c\\in C}\\frac{3}{4}-\\frac{1}{4}(w_iw_j + w_iw_k + w_jw_k) \\equiv \\frac{3}{4}|C| - \\frac{1}{4} \\min\\limits_{w_i \\in \\{-1, 1\\}} \\sum\\limits_{c\\in C}(w_iw_j + w_iw_k + w_jw_k)$.\n",
    "\n",
    "Thus, our problem becomes:\n",
    "\n",
    "$\\displaystyle \\min\\limits_{w_i \\in \\{-1, 1\\}} \\sum\\limits_{c\\in C}(w_iw_j + w_iw_k + w_jw_k) + M\\sum\\limits_{i=1}^n (w_i w_{i+n})$\n",
    "\n",
    "where the second sum accounts for a penalty where we want to ensure that $w_i$ and $\\neg w_i$ indeed hold different values (and M is a sufficiently large positive number)"
   ]
  },
  {
   "attachments": {},
   "cell_type": "markdown",
   "metadata": {},
   "source": [
    "## Try for QAOA Form\n",
    "$\\sum\\limits_{c \\in C} (Z_iZ_j+Z_iZ_k+Z_jZ_k) + M\\sum\\limits_{i=1}^n(Z_iZ_{i+n})$"
   ]
  },
  {
   "attachments": {},
   "cell_type": "markdown",
   "metadata": {},
   "source": [
    "## Encode SAT Formula\n",
    "\n",
    "- Number of variables = $n$\n",
    "- Number of qubits that we will use: $2n$\n",
    "- Encode the variables into their indices (i.e. $x_1 \\implies 1$, $x_5 \\implies 5$)\n",
    "- Replace the negation of variable $i$ with ($i+n$)\n",
    "\n",
    "### Example\n",
    "- Input: (1 or 2 or not 3) and (not 1 or 2 or 3)\n",
    "- Problem properties: $n = 3 \\implies 2n = nqubits = 6$ \n",
    "- Output: $\\left[[1,2,6], [4,2,3]\\right]$"
   ]
  },
  {
   "cell_type": "code",
   "execution_count": 53,
   "metadata": {},
   "outputs": [],
   "source": [
    "from qiskit.algorithms.optimizers import COBYLA\n",
    "from qiskit.algorithms import QAOA\n",
    "from qiskit_ibm_runtime import QiskitRuntimeService\n",
    "from qiskit.providers.aer import AerSimulator\n",
    "from qiskit.circuit.library import QAOAAnsatz\n",
    "from qiskit_ibm_runtime import Session"
   ]
  },
  {
   "cell_type": "code",
   "execution_count": 56,
   "metadata": {},
   "outputs": [],
   "source": [
    "## Some constants\n",
    "NEG_TEXT = \"not \"\n",
    "AND_TEXT = \" and \"\n",
    "OR_TEXT = \" or \""
   ]
  },
  {
   "attachments": {},
   "cell_type": "markdown",
   "metadata": {},
   "source": [
    "## Parser Code"
   ]
  },
  {
   "cell_type": "code",
   "execution_count": 57,
   "metadata": {},
   "outputs": [],
   "source": [
    "\"\"\"\n",
    "Parses the input formula (string) and outputs a list of clauses, where each clause contains a variable (negated if necessary)\n",
    "Clauses must be of the form (x_1 or not x_2 or x_3) divided by the \" and \" keyword. x_1, x_2 and x_3 have to be indices\n",
    "(i.e. x_1 === 0, x_2 === 1, x_3 === 3)\n",
    "\"\"\"\n",
    "def parse_formula(formula, num_variables):\n",
    "    clauses_text = formula.split(AND_TEXT)\n",
    "    # split the clauses by the OR_TEXT keyword to parse them individually\n",
    "    clauses_simplified = list(map(lambda clause_text: clause_text.split(OR_TEXT), clauses_text))\n",
    "    for i in range(len(clauses_simplified)):\n",
    "        for j in range(len(clauses_simplified[i])):\n",
    "            # Remove the parentheses\n",
    "            clauses_simplified[i][j] = clauses_simplified[i][j].replace('(', '')\n",
    "            clauses_simplified[i][j] = clauses_simplified[i][j].replace(')', '')\n",
    "            if clauses_simplified[i][j].startswith(NEG_TEXT):\n",
    "                var_index = clauses_simplified[i][j]\n",
    "                negated = clauses_simplified[i][j].startswith(NEG_TEXT)\n",
    "                if negated:\n",
    "                    # assign the index i+n to the negated variable i\n",
    "                    clauses_simplified[i][j] = int(clauses_simplified[i][j].split(\" \")[-1])+num_variables\n",
    "        clauses_simplified[i] = list(map(lambda x: int(x), clauses_simplified[i]))\n",
    "\n",
    "    return clauses_simplified"
   ]
  },
  {
   "attachments": {},
   "cell_type": "markdown",
   "metadata": {},
   "source": [
    "### Example\n",
    "\n",
    "We aim to solve a 3-SAT problem of the form\n",
    "\n",
    "$(x_1 \\lor x_2 \\lor \\neg x_3) \\land (x_3 \\lor \\neg x_1 \\lor \\neg x_6) \\land (\\neg x_2 \\lor x_4 \\lor x_5) \\land (\\neg x_4 \\lor \\neg x_5 \\lor x_6)$\n",
    "\n",
    "such that each clause $C$ must satisfy that for the three variables in $C$, at least one is true, and at least one is false. By setting $w_i = (-1)^{x_i}$, we aim to solve:\n",
    "\n",
    "### General Case Formula\n",
    "\n",
    "$\\displaystyle \\max\\limits_{w_i \\in \\{-1,1\\}} \\sum\\limits_{c\\in C}\\frac{3}{4}-\\frac{1}{4}(w_iw_j + w_iw_k + w_jw_k) \\equiv \\frac{3}{4}|C| - \\frac{1}{4} \\min\\limits_{w_i \\in \\{-1, 1\\}} \\sum\\limits_{c\\in C}(w_iw_j + w_iw_k + w_jw_k)$.\n",
    "\n",
    "Thus, our problem becomes:\n",
    "\n",
    "$\\displaystyle \\min\\limits_{w_i \\in \\{-1, 1\\}} \\sum\\limits_{c\\in C}(w_iw_j + w_iw_k + w_jw_k) + M\\sum\\limits_{i=1}^n (w_i w_{i+n})$\n",
    "\n",
    "where the second sum accounts for a penalty where we want to ensure that $w_i$ and $\\neg w_i$ indeed hold different values (and M is a sufficiently large positive number).\n",
    "\n",
    "In this notebook, I chose `M = M_FACTOR*num_variables`"
   ]
  },
  {
   "attachments": {},
   "cell_type": "markdown",
   "metadata": {},
   "source": [
    "## Try for QAOA Form\n",
    "$\\sum\\limits_{c \\in C} (Z_iZ_j+Z_iZ_k+Z_jZ_k) + M\\sum\\limits_{i=1}^n(Z_iZ_{i+n})$"
   ]
  },
  {
   "attachments": {},
   "cell_type": "markdown",
   "metadata": {},
   "source": [
    "## Create the Problem Hamiltonian"
   ]
  },
  {
   "cell_type": "code",
   "execution_count": 59,
   "metadata": {},
   "outputs": [],
   "source": [
    "from qiskit.opflow import I, Z\n",
    "\n",
    "\"\"\"\n",
    "Prepares a zero Hamiltonian of for num_variables qubits (i.e. a 2^n x 2^n zero matrix)\n",
    "\"\"\"\n",
    "def create_zero_hamiltonian(num_variables):\n",
    "    zero_H = I-I # 2x2 0-matrix\n",
    "    result = zero_H\n",
    "    for i in range(2*num_variables-1):\n",
    "        result = result^zero_H\n",
    "    return result\n",
    "\n",
    "\"\"\"\n",
    "Creates the 3SAT-NAE problem Hamiltonian (to later be used by QAOA)\n",
    "\"\"\"\n",
    "def create_problem_hamiltonian(num_variables, problem_input, penalty_factor):\n",
    "    h_p_p1 = create_zero_hamiltonian(num_variables)\n",
    "    # Create first sum (triangle max-cut Hamiltonian per clause)\n",
    "    for clause in problem_input:\n",
    "        clause_H = create_zero_hamiltonian(num_variables)\n",
    "        pairs = [(clause[0], clause[1]), (clause[0], clause[2]), (clause[1], clause[2])]\n",
    "        for pair in pairs:\n",
    "            pairH = 1\n",
    "            for i in range(2*num_variables):\n",
    "                if pair[0] == i or pair[1] == i:\n",
    "                    pairH = pairH^Z\n",
    "                else:\n",
    "                    pairH = pairH^I\n",
    "            clause_H += pairH\n",
    "        h_p_p1 += clause_H\n",
    "\n",
    "    # Create second sum (penalty term)\n",
    "    h_p_p2 = create_zero_hamiltonian(num_variables)\n",
    "    for i in range(num_variables):\n",
    "        temp_h_p_p2 = 1\n",
    "        for j in range(2*num_variables):\n",
    "            if j == i or j == num_variables+i:\n",
    "                temp_h_p_p2 = temp_h_p_p2^Z\n",
    "            else:\n",
    "                temp_h_p_p2 = temp_h_p_p2^I\n",
    "        h_p_p2 += temp_h_p_p2\n",
    "    h_p_p2 *= penalty_factor\n",
    "    return h_p_p1 + h_p_p2"
   ]
  },
  {
   "attachments": {},
   "cell_type": "markdown",
   "metadata": {},
   "source": [
    "## Verify the consistency and problem constraint satisfactions"
   ]
  },
  {
   "cell_type": "code",
   "execution_count": 60,
   "metadata": {},
   "outputs": [],
   "source": [
    "\"\"\"\n",
    "Verifies if the variable assignments are consistent (i.e. make sure that x and not(x) evaluate to different values)\n",
    "Returns a boolean (True if the assignments are consistent, False otherwise)\n",
    "\"\"\"\n",
    "def verify_consistency(assignments, num_variables, show_info=True):\n",
    "    for i in range(num_variables):\n",
    "        # Check if the assignment to x and indeed not x are the same\n",
    "        if assignments[i] == assignments[i+num_variables]:\n",
    "            return False\n",
    "    return True"
   ]
  },
  {
   "cell_type": "code",
   "execution_count": 61,
   "metadata": {},
   "outputs": [],
   "source": [
    "\"\"\"\n",
    "Verifies if the formula is satsified or not (with additional checks for the NAE constraint).\n",
    "Returns a boolean (True if both constraints are satisfied, False otherwise)\n",
    "\"\"\"\n",
    "def verify(result, sat_nae, num_variables):\n",
    "    clause_values = []\n",
    "    nae_holds = True\n",
    "    for clause_index in range(len(sat_nae)):\n",
    "        clause_value = False\n",
    "        clause_and = True # do an AND inside each clause to check for NAE\n",
    "        for i in range(3): # Because 3 variables per clause\n",
    "            if sat_nae[clause_index][i] < num_variables:\n",
    "                result[sat_nae[clause_index][i]]\n",
    "                clause_value = clause_value or bool(result[sat_nae[clause_index][i]])\n",
    "                clause_and = clause_and and bool(result[sat_nae[clause_index][i]])\n",
    "            else:\n",
    "                clause_value = clause_value or not bool(result[sat_nae[clause_index][i]-num_variables])\n",
    "                clause_and = clause_and and bool(result[sat_nae[clause_index][i]])\n",
    "        clause_values.append(clause_value)\n",
    "        if clause_and:\n",
    "            nae_holds = False\n",
    "    final_value = True\n",
    "    nae_value = True\n",
    "    for i in range(len(clause_values)):\n",
    "        final_value = final_value and clause_values[i]\n",
    "    if final_value and nae_holds:\n",
    "        return True\n",
    "    else:\n",
    "        return False"
   ]
  },
  {
   "cell_type": "code",
   "execution_count": 62,
   "metadata": {},
   "outputs": [],
   "source": [
    "# Cell copied from https://qiskit.org/documentation/tutorials/algorithms/05_qaoa.html\n",
    "from collections import OrderedDict\n",
    "from qiskit.opflow import StateFn\n",
    "import numpy as np\n",
    "\n",
    "\n",
    "def sample_most_likely(state_vector):\n",
    "    \"\"\"Compute the most likely binary string from state vector.\n",
    "    Args:\n",
    "        state_vector (numpy.ndarray or dict): state vector or counts.\n",
    "    Returns:\n",
    "        numpy.ndarray: binary string as numpy.ndarray of ints.\n",
    "    \"\"\"\n",
    "    if isinstance(state_vector, (OrderedDict, dict)):\n",
    "        # get the binary string with the largest count\n",
    "        binary_string = sorted(state_vector.items(), key=lambda kv: kv[1])[-1][0]\n",
    "        x = np.asarray([int(y) for y in reversed(list(binary_string))])\n",
    "        return x\n",
    "    elif isinstance(state_vector, StateFn):\n",
    "        binary_string = list(state_vector.sample().keys())[0]\n",
    "        x = np.asarray([int(y) for y in reversed(list(binary_string))])\n",
    "        return x\n",
    "    else:\n",
    "        n = int(np.log2(state_vector.shape[0]))\n",
    "        k = np.argmax(np.abs(state_vector))\n",
    "        x = np.zeros(n)\n",
    "        for i in range(n):\n",
    "            x[i] = k % 2\n",
    "            k >>= 1\n",
    "        return x"
   ]
  },
  {
   "attachments": {},
   "cell_type": "markdown",
   "metadata": {},
   "source": [
    "## Input CNF\n",
    "A 3SAT CNF is of the form $(x_1 \\lor x_2 \\lor x_3) \\land (\\neg x_2 \\lor x_3 \\lor x_4)$ for example\n",
    "\n",
    "In this notebook, we will assume that the cnf variables ($x_1, x_2, ...$) are given as integers (starting from 0) instead of strings, i.e.\n",
    "$x_1 \\mapsto 0$, $x_2 \\mapsto 1$, etc... This is not very intuitive but it makes parsing easier. We might change it later.\n",
    "\n",
    "- $\\neg$ operator: The negation is denoted by an `n` in front of a particular variable $\\implies$ Ex: $\\neg x_2 \\mapsto$ `not 2`\n",
    "- $\\lor$ operator: The $\\lor$ operator is denoted by the ` or ` keyword. $\\implies$ Ex: $x_1 \\lor \\neg x_2 \\lor x_3 \\mapsto$ `(0 or not 1 or 2)` \n",
    "- $\\land$ operator: The $\\land$ operator is denoted by the ` and ` keyword between clauses $\\implies$ Ex: $(x_1 \\lor \\neg x_2 \\lor x_3) \\land (\\neg x_1 \\lor \\neg x_2 \\lor \\neg x_3) \\mapsto$ `(0 or not 1 or 2) and (not 0 or not 1 or not 2)`\n",
    "\n",
    "Therefore, for example, given the following CNF:\n",
    "\n",
    "$(x_1 \\lor x_2 \\lor \\neg x_3) \\land (x_3 \\lor \\neg x_1 \\lor \\neg x_6) \\land (\\neg x_2 \\lor x_4 \\lor x_5) \\land (\\neg x_4 \\lor \\neg x_5 \\lor x_6)$\n",
    "\n",
    "the input CNF to this program will be formulated as\n",
    "\n",
    "`(0 or 1 or not 2) and (2 or not 0 or not 5) and (not 1 or 3 or 4) and (not 3 or not 4 or 5)` (as a string)"
   ]
  },
  {
   "cell_type": "code",
   "execution_count": 65,
   "metadata": {},
   "outputs": [],
   "source": [
    "num_variables = int(input(\"Enter the number of variables in the formula: \"))\n",
    "formula = input(\"Enter a CNF (example: (0 or 1 or not 2) and (not 0 or 3 or 4): \")\n",
    "# example: (0 or 1 or not 2) and (2 or not 0 or not 5) and (not 1 or 3 or 4) and (not 3 or not 4 or 5)\n",
    "\n",
    "sat_nae = parse_formula(formula, num_variables)\n",
    "M = 30 # penalty factor"
   ]
  },
  {
   "cell_type": "code",
   "execution_count": 66,
   "metadata": {},
   "outputs": [
    {
     "name": "stdout",
     "output_type": "stream",
     "text": [
      "0.0 * IIIIIIIIIIII\n",
      "+ 0.0 * IIIIIIIIIIII\n",
      "+ 1.0 * ZZIIIIIIIIII\n",
      "+ 1.0 * ZIIIIIIIZIII\n",
      "+ 1.0 * IZIIIIIIZIII\n",
      "+ 0.0 * IIIIIIIIIIII\n",
      "+ 1.0 * IIZIIIZIIIII\n",
      "+ 1.0 * IIZIIIIIIIIZ\n",
      "+ 1.0 * IIIIIIZIIIIZ\n",
      "+ 0.0 * IIIIIIIIIIII\n",
      "+ 1.0 * IIIZIIIZIIII\n",
      "+ 1.0 * IIIIZIIZIIII\n",
      "+ 1.0 * IIIZZIIIIIII\n",
      "+ 0.0 * IIIIIIIIIIII\n",
      "+ 1.0 * IIIIIIIIIZZI\n",
      "+ 1.0 * IIIIIZIIIZII\n",
      "+ 1.0 * IIIIIZIIIIZI\n",
      "+ 0.0 * IIIIIIIIIIII\n",
      "+ 30.0 * ZIIIIIZIIIII\n",
      "+ 30.0 * IZIIIIIZIIII\n",
      "+ 30.0 * IIZIIIIIZIII\n",
      "+ 30.0 * IIIZIIIIIZII\n",
      "+ 30.0 * IIIIZIIIIIZI\n",
      "+ 30.0 * IIIIIZIIIIIZ\n"
     ]
    }
   ],
   "source": [
    "h_p = create_problem_hamiltonian(num_variables, sat_nae, M)\n",
    "print(h_p)"
   ]
  },
  {
   "attachments": {},
   "cell_type": "markdown",
   "metadata": {},
   "source": [
    "## Run QAOA"
   ]
  },
  {
   "cell_type": "code",
   "execution_count": 52,
   "metadata": {},
   "outputs": [
    {
     "name": "stdout",
     "output_type": "stream",
     "text": [
      "Run 1: Success (eigval = -109.03550798487831, eigvec = [0, 0, 0, 0, 1, 0, 1, 1, 1, 1, 0, 1])\n",
      "Run 2: Success (eigval = -109.30323493207348, eigvec = [1, 0, 0, 0, 0, 0, 0, 1, 1, 1, 1, 1])\n",
      "Run 3: Success (eigval = -134.7386744016732, eigvec = [0, 0, 0, 0, 1, 0, 1, 1, 1, 1, 0, 1])\n",
      "Run 4: Success (eigval = -53.67510436151323, eigvec = [1, 1, 1, 0, 1, 0, 0, 0, 0, 1, 0, 1])\n",
      "Run 5: Success (eigval = -12.560489397666544, eigvec = [0, 1, 0, 0, 1, 0, 1, 0, 1, 1, 0, 1])\n",
      "Run 6: Success (eigval = -118.53666393331041, eigvec = [0, 1, 1, 1, 1, 1, 1, 0, 0, 0, 0, 0])\n",
      "Run 7: Success (eigval = -142.52077213114745, eigvec = [1, 1, 1, 0, 1, 1, 0, 0, 0, 1, 0, 0])\n",
      "Run 8: Success (eigval = -170.45083352465582, eigvec = [1, 1, 1, 1, 0, 1, 0, 0, 0, 0, 1, 0])\n",
      "Run 9: Success (eigval = -174.82928598603152, eigvec = [1, 0, 1, 0, 1, 0, 0, 1, 0, 1, 0, 1])\n",
      "Run 10: Success (eigval = -170.0029844801353, eigvec = [0, 0, 0, 0, 1, 0, 1, 1, 1, 1, 0, 1])\n",
      "Run 11: Failure (eigval = -20.07900169055775, eigvec = [1, 0, 0, 1, 1, 1, 0, 0, 1, 0, 0, 1])\n",
      "Run 12: Success (eigval = -84.69865497524454, eigvec = [0, 1, 0, 0, 1, 1, 1, 0, 1, 1, 0, 0])\n",
      "Run 13: Success (eigval = -80.79608170017207, eigvec = [0, 1, 1, 1, 1, 1, 1, 0, 0, 0, 0, 0])\n",
      "Run 14: Success (eigval = -70.57862770055345, eigvec = [0, 0, 0, 0, 1, 0, 1, 1, 1, 1, 0, 1])\n",
      "Run 15: Success (eigval = -79.91615546682746, eigvec = [0, 1, 0, 0, 1, 1, 1, 0, 1, 1, 0, 0])\n",
      "Run 16: Success (eigval = -174.44672171128164, eigvec = [0, 0, 0, 1, 0, 0, 1, 1, 1, 0, 1, 1])\n",
      "Run 17: Success (eigval = -97.51183146559457, eigvec = [0, 0, 0, 0, 1, 0, 1, 1, 1, 1, 0, 1])\n",
      "Run 18: Success (eigval = -167.33781052452397, eigvec = [0, 1, 0, 1, 0, 1, 1, 0, 1, 0, 1, 0])\n",
      "Run 19: Success (eigval = -125.90706110394032, eigvec = [0, 0, 0, 0, 1, 0, 1, 1, 1, 1, 0, 1])\n",
      "Run 20: Success (eigval = -23.842714262622234, eigvec = [0, 0, 0, 1, 0, 1, 1, 1, 1, 0, 1, 0])\n",
      "Accuracy: 95.0%\n"
     ]
    }
   ],
   "source": [
    "service = QiskitRuntimeService()\n",
    "method = \"statevector\"\n",
    "device = \"CPU\"\n",
    "backend = AerSimulator(method=method, device=device)\n",
    "ansatz = QAOAAnsatz(h_p)\n",
    "session = Session(backend=backend)\n",
    "service = QiskitRuntimeService()\n",
    "\n",
    "# For testing\n",
    "num_successes = 0\n",
    "num_runs = 20\n",
    "\n",
    "# Running using Qiskit Runtime\n",
    "qaoa = QAOA(optimizer=COBYLA(maxiter=100), quantum_instance=backend, reps=1)\n",
    "output = None\n",
    "for i in range(num_runs):\n",
    "    with Session(service=service,backend=backend) as session:\n",
    "        output = qaoa.compute_minimum_eigenvalue(h_p)\n",
    "    eigenstate = list(map(lambda x: int(x), list(sample_most_likely(output.eigenstate))[::-1]))\n",
    "    eigenvalue = output.eigenvalue.real\n",
    "    if verify_consistency(eigenstate, num_variables) and verify(eigenstate, sat_nae, num_variables):\n",
    "        print(f\"Run {i+1}: Success (eigval = {eigenvalue}, eigvec = {eigenstate})\")\n",
    "        num_successes += 1\n",
    "    else:\n",
    "        print(f\"Run {i+1}: Failure (eigval = {eigenvalue}, eigvec = {eigenstate})\")\n",
    "\n",
    "print(f\"Success Rate: {100*num_successes/num_runs}%\")"
   ]
  }
 ],
 "metadata": {
  "kernelspec": {
   "display_name": "base",
   "language": "python",
   "name": "python3"
  },
  "language_info": {
   "codemirror_mode": {
    "name": "ipython",
    "version": 3
   },
   "file_extension": ".py",
   "mimetype": "text/x-python",
   "name": "python",
   "nbconvert_exporter": "python",
   "pygments_lexer": "ipython3",
   "version": "3.9.6"
  },
  "orig_nbformat": 4,
  "vscode": {
   "interpreter": {
    "hash": "755e4fffd9863c34f50e22b8e332f3644d6e20de7303d9ee8e0d45660608a2f5"
   }
  }
 },
 "nbformat": 4,
 "nbformat_minor": 2
}
