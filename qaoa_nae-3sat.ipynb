{
 "cells": [
  {
   "attachments": {},
   "cell_type": "markdown",
   "metadata": {},
   "source": [
    "## SAT-NAE\n",
    "\n",
    "### Aim\n",
    "Given a SAT problem, solve it such that for each clause, have at least one variable to be set to false."
   ]
  },
  {
   "attachments": {},
   "cell_type": "markdown",
   "metadata": {},
   "source": [
    "### Example\n",
    "\n",
    "We aim to solve a 3-SAT problem of the form\n",
    "\n",
    "$(x_1 \\lor x_2 \\lor \\neg x_3) \\land (x_3 \\lor \\neg x_1 \\lor \\neg x_6) \\land (\\neg x_2 \\lor x_4 \\lor x_5) \\land (\\neg x_4 \\lor \\neg x_5 \\lor x_6)$\n",
    "\n",
    "such that each clause $C$ must satisfy that for the three variables in $C$, at least one is true, and at least one is false. By setting $w_i = (-1)^{x_i}$, we aim to solve:\n",
    "\n",
    "$\\displaystyle \\max\\limits_{w_i \\in \\{-1,1\\}} \\sum\\limits_{c\\in C}\\frac{3}{4}-\\frac{1}{4}(w_iw_j + w_iw_k + w_jw_k) \\equiv \\frac{3}{4}|C| - \\frac{1}{4} \\min\\limits_{w_i \\in \\{-1, 1\\}} \\sum\\limits_{c\\in C}(w_iw_j + w_iw_k + w_jw_k)$.\n",
    "\n",
    "Thus, our problem becomes:\n",
    "\n",
    "$\\displaystyle \\min\\limits_{w_i \\in \\{-1, 1\\}} \\sum\\limits_{c\\in C}(w_iw_j + w_iw_k + w_jw_k) + M\\sum\\limits_{i=1}^n (w_i w_{i+n})$\n",
    "\n",
    "where the second sum accounts for a penalty where we want to ensure that $w_i$ and $\\neg w_i$ indeed hold different values (and M is a sufficiently large positive number)"
   ]
  },
  {
   "attachments": {},
   "cell_type": "markdown",
   "metadata": {},
   "source": [
    "## Try for QAOA Form\n",
    "$\\sum\\limits_{c \\in C} (Z_iZ_j+Z_iZ_k+Z_jZ_k) + M\\sum\\limits_{i=1}^n(Z_iZ_{i+n})$"
   ]
  },
  {
   "attachments": {},
   "cell_type": "markdown",
   "metadata": {},
   "source": [
    "## Encode SAT Formula\n",
    "\n",
    "- Number of variables = $n$\n",
    "- Number of qubits that we will use: $2n$\n",
    "- Encode the variables into their indices (i.e. $x_1 \\implies 1$, $x_5 \\implies 5$)\n",
    "- Replace the negation of variable $i$ with ($i+n$)\n",
    "\n",
    "### Example\n",
    "- Input: (1 or 2 or not 3) and (not 1 or 2 or 3)\n",
    "- Problem properties: $n = 3 \\implies 2n = nqubits = 6$ \n",
    "- Output: $\\left[[1,2,6], [4,2,3]\\right]$"
   ]
  },
  {
   "cell_type": "code",
   "execution_count": 22,
   "metadata": {},
   "outputs": [],
   "source": [
    "from qiskit.algorithms.optimizers import COBYLA\n",
    "from qiskit.algorithms import QAOA\n",
    "from qiskit_ibm_runtime import QiskitRuntimeService\n",
    "from qiskit.providers.aer import AerSimulator\n",
    "from qiskit.circuit.library import QAOAAnsatz\n",
    "from qiskit_ibm_runtime import Session\n",
    "import itertools"
   ]
  },
  {
   "cell_type": "code",
   "execution_count": 2,
   "metadata": {},
   "outputs": [],
   "source": [
    "## Some constants\n",
    "NEG_TEXT = \"not \"\n",
    "AND_TEXT = \" and \"\n",
    "OR_TEXT = \" or \""
   ]
  },
  {
   "attachments": {},
   "cell_type": "markdown",
   "metadata": {},
   "source": [
    "## Parser Code"
   ]
  },
  {
   "cell_type": "code",
   "execution_count": 14,
   "metadata": {},
   "outputs": [],
   "source": [
    "def parse_cnf():\n",
    "    \"\"\"Asks the user to input the number of variables used and the CNF itself, and parses the CNF\n",
    "\n",
    "    Returns\n",
    "    -------\n",
    "    list(int)\n",
    "        the parsed CNF according to the conventions we decide to use\n",
    "    \"\"\"\n",
    "    num_variables = int(input(\"Enter the number of variables: \"))\n",
    "    cnf = input(\"Enter the CNF of the form above (ex: 0 1 2,0 n1 2): \")\n",
    "    clauses = cnf.replace(\",\", \" \")\n",
    "    parsed_cnf = clauses.split(\" \")\n",
    "    for i in range(len(parsed_cnf)):\n",
    "        if parsed_cnf[i].startswith(\"n\"):\n",
    "            parsed_cnf[i] = str(int(parsed_cnf[i][1:])+num_variables)\n",
    "    parsed_cnf = list(map(lambda elem: int(elem), parsed_cnf))\n",
    "    return parsed_cnf, num_variables"
   ]
  },
  {
   "cell_type": "code",
   "execution_count": 15,
   "metadata": {},
   "outputs": [],
   "source": [
    "def parse_cnf_from_str(str_cnf, num_variables):\n",
    "    clauses = str_cnf.replace(\",\", \" \")\n",
    "    parsed_cnf = clauses.split(\" \")\n",
    "    for i in range(len(parsed_cnf)):\n",
    "        if parsed_cnf[i].startswith(\"n\"):\n",
    "            parsed_cnf[i] = str(int(parsed_cnf[i][1:])+num_variables)\n",
    "    parsed_cnf = list(map(lambda elem: int(elem), parsed_cnf))\n",
    "    return parsed_cnf, int(num_variables)"
   ]
  },
  {
   "attachments": {},
   "cell_type": "markdown",
   "metadata": {},
   "source": [
    "### Example\n",
    "\n",
    "We aim to solve a 3-SAT problem of the form\n",
    "\n",
    "$(x_1 \\lor x_2 \\lor \\neg x_3) \\land (x_3 \\lor \\neg x_1 \\lor \\neg x_6) \\land (\\neg x_2 \\lor x_4 \\lor x_5) \\land (\\neg x_4 \\lor \\neg x_5 \\lor x_6)$\n",
    "\n",
    "such that each clause $C$ must satisfy that for the three variables in $C$, at least one is true, and at least one is false. By setting $w_i = (-1)^{x_i}$, we aim to solve:\n",
    "\n",
    "### General Case Formula\n",
    "\n",
    "$\\displaystyle \\max\\limits_{w_i \\in \\{-1,1\\}} \\sum\\limits_{c\\in C}\\frac{3}{4}-\\frac{1}{4}(w_iw_j + w_iw_k + w_jw_k) \\equiv \\frac{3}{4}|C| - \\frac{1}{4} \\min\\limits_{w_i \\in \\{-1, 1\\}} \\sum\\limits_{c\\in C}(w_iw_j + w_iw_k + w_jw_k)$.\n",
    "\n",
    "Thus, our problem becomes:\n",
    "\n",
    "$\\displaystyle \\min\\limits_{w_i \\in \\{-1, 1\\}} \\sum\\limits_{c\\in C}(w_iw_j + w_iw_k + w_jw_k) + M\\sum\\limits_{i=1}^n (w_i w_{i+n})$\n",
    "\n",
    "where the second sum accounts for a penalty where we want to ensure that $w_i$ and $\\neg w_i$ indeed hold different values (and M is a sufficiently large positive number).\n",
    "\n",
    "In this notebook, I chose `M = M_FACTOR*num_variables`"
   ]
  },
  {
   "attachments": {},
   "cell_type": "markdown",
   "metadata": {},
   "source": [
    "## Try for QAOA Form\n",
    "$\\sum\\limits_{c \\in C} (Z_iZ_j+Z_iZ_k+Z_jZ_k) + M\\sum\\limits_{i=1}^n(Z_iZ_{i+n})$"
   ]
  },
  {
   "attachments": {},
   "cell_type": "markdown",
   "metadata": {},
   "source": [
    "## Create the Problem Hamiltonian"
   ]
  },
  {
   "cell_type": "code",
   "execution_count": 16,
   "metadata": {},
   "outputs": [],
   "source": [
    "from qiskit.opflow import I, Z\n",
    "\n",
    "\"\"\"\n",
    "Prepares a zero Hamiltonian of for num_variables qubits (i.e. a 2^n x 2^n zero matrix)\n",
    "\"\"\"\n",
    "def create_zero_hamiltonian(num_variables):\n",
    "    zero_H = I-I # 2x2 0-matrix\n",
    "    result = zero_H\n",
    "    for i in range(2*num_variables-1):\n",
    "        result = result^zero_H\n",
    "    return result\n",
    "\n",
    "\"\"\"\n",
    "Creates the 3SAT-NAE problem Hamiltonian (to later be used by QAOA)\n",
    "\"\"\"\n",
    "def create_problem_hamiltonian(num_variables, problem_input, penalty_factor):\n",
    "    h_p_p1 = create_zero_hamiltonian(num_variables)\n",
    "    # Create first sum (triangle max-cut Hamiltonian per clause)\n",
    "    for i in range(len(problem_input), 3):\n",
    "        clause_H = create_zero_hamiltonian(num_variables)\n",
    "        pairs = [\n",
    "            (problem_input[i], problem_input[i+1]), \n",
    "            (problem_input[i], problem_input[i+2]), \n",
    "            (problem_input[i+1], problem_input[i+2])]\n",
    "        for pair in pairs:\n",
    "            pairH = 1\n",
    "            for i in range(2*num_variables):\n",
    "                if pair[0] == i or pair[1] == i:\n",
    "                    pairH = pairH^Z\n",
    "                else:\n",
    "                    pairH = pairH^I\n",
    "            clause_H += pairH\n",
    "        h_p_p1 += clause_H\n",
    "\n",
    "    # Create second sum (penalty term)\n",
    "    h_p_p2 = create_zero_hamiltonian(num_variables)\n",
    "    for i in range(num_variables):\n",
    "        temp_h_p_p2 = 1\n",
    "        for j in range(2*num_variables):\n",
    "            if j == i or j == num_variables+i:\n",
    "                temp_h_p_p2 = temp_h_p_p2^Z\n",
    "            else:\n",
    "                temp_h_p_p2 = temp_h_p_p2^I\n",
    "        h_p_p2 += temp_h_p_p2\n",
    "    h_p_p2 *= penalty_factor\n",
    "    return h_p_p1 + h_p_p2"
   ]
  },
  {
   "attachments": {},
   "cell_type": "markdown",
   "metadata": {},
   "source": [
    "## Verify the consistency and problem constraint satisfactions"
   ]
  },
  {
   "cell_type": "code",
   "execution_count": 5,
   "metadata": {},
   "outputs": [],
   "source": [
    "\"\"\"\n",
    "Verifies if the variable assignments are consistent (i.e. make sure that x and not(x) evaluate to different values)\n",
    "Returns a boolean (True if the assignments are consistent, False otherwise)\n",
    "\"\"\"\n",
    "def verify_consistency(assignments, num_variables, show_info=True):\n",
    "    for i in range(num_variables):\n",
    "        # Check if the assignment to x and indeed not x are the same\n",
    "        if assignments[i] == assignments[i+num_variables]:\n",
    "            return False\n",
    "    return True"
   ]
  },
  {
   "cell_type": "code",
   "execution_count": 6,
   "metadata": {},
   "outputs": [],
   "source": [
    "\"\"\"\n",
    "Verifies if the formula is satsified or not (with additional checks for the NAE constraint).\n",
    "Returns a boolean (True if both constraints are satisfied, False otherwise)\n",
    "\"\"\"\n",
    "def verify(result, sat_nae, num_variables):\n",
    "    clause_values = []\n",
    "    nae_holds = True\n",
    "    for clause_index in range(len(sat_nae)):\n",
    "        clause_value = False\n",
    "        clause_and = True # do an AND inside each clause to check for NAE\n",
    "        for i in range(3): # Because 3 variables per clause\n",
    "            if sat_nae[clause_index][i] < num_variables:\n",
    "                result[sat_nae[clause_index][i]]\n",
    "                clause_value = clause_value or bool(result[sat_nae[clause_index][i]])\n",
    "                clause_and = clause_and and bool(result[sat_nae[clause_index][i]])\n",
    "            else:\n",
    "                clause_value = clause_value or not bool(result[sat_nae[clause_index][i]-num_variables])\n",
    "                clause_and = clause_and and bool(result[sat_nae[clause_index][i]])\n",
    "        clause_values.append(clause_value)\n",
    "        if clause_and:\n",
    "            nae_holds = False\n",
    "    final_value = True\n",
    "    nae_value = True\n",
    "    for i in range(len(clause_values)):\n",
    "        final_value = final_value and clause_values[i]\n",
    "    if final_value and nae_holds:\n",
    "        return True\n",
    "    else:\n",
    "        return False"
   ]
  },
  {
   "cell_type": "code",
   "execution_count": 17,
   "metadata": {},
   "outputs": [],
   "source": [
    "# Cell copied from https://qiskit.org/documentation/tutorials/algorithms/05_qaoa.html\n",
    "from collections import OrderedDict\n",
    "from qiskit.opflow import StateFn\n",
    "import numpy as np\n",
    "\n",
    "\n",
    "def sample_most_likely(state_vector):\n",
    "    \"\"\"Compute the most likely binary string from state vector.\n",
    "    Args:\n",
    "        state_vector (numpy.ndarray or dict): state vector or counts.\n",
    "    Returns:\n",
    "        numpy.ndarray: binary string as numpy.ndarray of ints.\n",
    "    \"\"\"\n",
    "    if isinstance(state_vector, (OrderedDict, dict)):\n",
    "        # get the binary string with the largest count\n",
    "        binary_string = sorted(state_vector.items(), key=lambda kv: kv[1])[-1][0]\n",
    "        x = np.asarray([int(y) for y in reversed(list(binary_string))])\n",
    "        return x\n",
    "    elif isinstance(state_vector, StateFn):\n",
    "        binary_string = list(state_vector.sample().keys())[0]\n",
    "        x = np.asarray([int(y) for y in reversed(list(binary_string))])\n",
    "        return x\n",
    "    else:\n",
    "        n = int(np.log2(state_vector.shape[0]))\n",
    "        k = np.argmax(np.abs(state_vector))\n",
    "        x = np.zeros(n)\n",
    "        for i in range(n):\n",
    "            x[i] = k % 2\n",
    "            k >>= 1\n",
    "        return x"
   ]
  },
  {
   "attachments": {},
   "cell_type": "markdown",
   "metadata": {},
   "source": [
    "## Input CNF\n",
    "A 3SAT CNF is of the form $(x_1 \\lor x_2 \\lor x_3) \\land (\\neg x_2 \\lor x_3 \\lor x_4)$ for example\n",
    "\n",
    "In this notebook, we will assume that the cnf variables ($x_1, x_2, ...$) are given as integers (starting from 0) instead of strings, i.e.\n",
    "$x_1 \\mapsto 0$, $x_2 \\mapsto 1$, etc... This is not very intuitive but it makes parsing easier. We might change it later.\n",
    "\n",
    "- $\\neg$ operator: The negation is denoted by an `n` in front of a particular variable $\\implies$ Ex: $\\neg x_2 \\mapsto$ `not 2`\n",
    "- $\\lor$ operator: The $\\lor$ operator is denoted by the ` or ` keyword. $\\implies$ Ex: $x_1 \\lor \\neg x_2 \\lor x_3 \\mapsto$ `(0 or not 1 or 2)` \n",
    "- $\\land$ operator: The $\\land$ operator is denoted by the ` and ` keyword between clauses $\\implies$ Ex: $(x_1 \\lor \\neg x_2 \\lor x_3) \\land (\\neg x_1 \\lor \\neg x_2 \\lor \\neg x_3) \\mapsto$ `(0 or not 1 or 2) and (not 0 or not 1 or not 2)`\n",
    "\n",
    "Therefore, for example, given the following CNF:\n",
    "\n",
    "$(x_1 \\lor x_2 \\lor \\neg x_3) \\land (x_3 \\lor \\neg x_1 \\lor \\neg x_6) \\land (\\neg x_2 \\lor x_4 \\lor x_5) \\land (\\neg x_4 \\lor \\neg x_5 \\lor x_6)$\n",
    "\n",
    "the input CNF to this program will be formulated as\n",
    "\n",
    "`(0 or 1 or not 2) and (2 or not 0 or not 5) and (not 1 or 3 or 4) and (not 3 or not 4 or 5)` (as a string)"
   ]
  },
  {
   "cell_type": "code",
   "execution_count": 10,
   "metadata": {},
   "outputs": [
    {
     "name": "stdout",
     "output_type": "stream",
     "text": [
      "[[0, 1, 8], [2, 6, 11], [7, 3, 4], [9, 10, 5]]\n"
     ]
    }
   ],
   "source": [
    "num_variables = int(input(\"Enter the number of variables in the formula: \"))\n",
    "formula = input(\"Enter a CNF (example: (0 or 1 or not 2) and (not 0 or 3 or 4): \")\n",
    "# example: (0 or 1 or not 2) and (2 or not 0 or not 5) and (not 1 or 3 or 4) and (not 3 or not 4 or 5)\n",
    "# example: (0 or 1 or 2) and (not 0 or 1 or 2) and (0 or not 1 or 2) and (0 or 1 or not 2)\n",
    "\n",
    "sat_nae = parse_formula(formula, num_variables)\n",
    "print(sat_nae)\n",
    "M = 30 # penalty factor"
   ]
  },
  {
   "cell_type": "code",
   "execution_count": 12,
   "metadata": {},
   "outputs": [
    {
     "name": "stdout",
     "output_type": "stream",
     "text": [
      "0.0 * IIIIIIIIIIII\n",
      "+ 0.0 * IIIIIIIIIIII\n",
      "+ 1.0 * ZZIIIIIIIIII\n",
      "+ 1.0 * ZIIIIIIIZIII\n",
      "+ 1.0 * IZIIIIIIZIII\n",
      "+ 0.0 * IIIIIIIIIIII\n",
      "+ 1.0 * IIZIIIZIIIII\n",
      "+ 1.0 * IIZIIIIIIIIZ\n",
      "+ 1.0 * IIIIIIZIIIIZ\n",
      "+ 0.0 * IIIIIIIIIIII\n",
      "+ 1.0 * IIIZIIIZIIII\n",
      "+ 1.0 * IIIIZIIZIIII\n",
      "+ 1.0 * IIIZZIIIIIII\n",
      "+ 0.0 * IIIIIIIIIIII\n",
      "+ 1.0 * IIIIIIIIIZZI\n",
      "+ 1.0 * IIIIIZIIIZII\n",
      "+ 1.0 * IIIIIZIIIIZI\n",
      "+ 0.0 * IIIIIIIIIIII\n",
      "+ 30.0 * ZIIIIIZIIIII\n",
      "+ 30.0 * IZIIIIIZIIII\n",
      "+ 30.0 * IIZIIIIIZIII\n",
      "+ 30.0 * IIIZIIIIIZII\n",
      "+ 30.0 * IIIIZIIIIIZI\n",
      "+ 30.0 * IIIIIZIIIIIZ\n"
     ]
    }
   ],
   "source": [
    "from qiskit.algorithms import NumPyMinimumEigensolver\n",
    "h_p = create_problem_hamiltonian(num_variables, sat_nae, M)\n",
    "classical_eigensolver = NumPyMinimumEigensolver()\n",
    "print(h_p)"
   ]
  },
  {
   "cell_type": "code",
   "execution_count": 18,
   "metadata": {},
   "outputs": [],
   "source": [
    "# Get the theoretical Max-Cut value according to the previous formula\n",
    "def get_theoretical_maxcut_value(G, parsed_cnf, num_variables, M):\n",
    "    \"\"\"Compute the theoretical max-cut value\n",
    "    \n",
    "    Parameters\n",
    "    ----------\n",
    "    G : nx.Graph\n",
    "        the graph whose max-cut to compute\n",
    "    parsed_cnf : list(int)\n",
    "        the parsed cnf containing values in [0, 2N-1]\n",
    "    num_variables: int\n",
    "        the number of variables used in the CNF (= N)\n",
    "    M : int\n",
    "        the penalty factor for consistency\n",
    "\n",
    "    Returns\n",
    "    -------\n",
    "    float\n",
    "        the theoretical max-cut value\n",
    "    \"\"\"\n",
    "    # cnf_contribution is the second part of the MaxCutValue_theory above\n",
    "    cut_value = 0\n",
    "    for u,v in G.edges:\n",
    "        cut_value += G[u][v][\"weight\"]/2\n",
    "        \n",
    "    for i in range(num_variables):\n",
    "        if i in parsed_cnf and i + num_variables in parsed_cnf:\n",
    "            cut_value += M/2\n",
    "    cut_value += len(parsed_cnf)/6\n",
    "    return cut_value\n"
   ]
  },
  {
   "attachments": {},
   "cell_type": "markdown",
   "metadata": {},
   "source": [
    "## Run QAOA"
   ]
  },
  {
   "cell_type": "code",
   "execution_count": null,
   "metadata": {},
   "outputs": [],
   "source": [
    "service = QiskitRuntimeService()\n",
    "method = \"statevector\"\n",
    "device = \"CPU\"\n",
    "backend = AerSimulator(method=method, device=device)\n",
    "session = Session(backend=backend)\n",
    "service = QiskitRuntimeService()\n",
    "\n",
    "# For testing\n",
    "num_successes = 0\n",
    "num_runs = 20\n",
    "\n",
    "# Running using Qiskit Runtime\n",
    "qaoa = QAOA(optimizer=COBYLA(maxiter=1000), quantum_instance=backend, reps=3)\n",
    "output = None\n",
    "\n",
    "# Compute theoretical GSE\n",
    "num_negated_variables = 0\n",
    "flattened_cnf = list(itertools.chain.from_iterable(sat_nae))\n",
    "for i in range(num_variables):\n",
    "    if i in flattened_cnf and i+num_variables in flattened_cnf:\n",
    "        num_negated_variables += 1\n",
    "ground_state_value = -len(sat_nae) -M*num_negated_variables\n",
    "\n",
    "print(f\"Theoretical ground state energy: {ground_state_value}\")\n",
    "\n",
    "for i in range(num_runs):\n",
    "    with Session(service=service,backend=backend) as session:\n",
    "        output = qaoa.compute_minimum_eigenvalue(h_p)\n",
    "    eigenstate = list(map(lambda x: int(x), list(sample_most_likely(output.eigenstate))[::-1]))\n",
    "    eigenvalue = output.eigenvalue.real\n",
    "    if verify_consistency(eigenstate, num_variables) and verify(eigenstate, sat_nae, num_variables):\n",
    "        print(f\"Run {i+1}: Success (eigval = {eigenvalue}, eigvec = {eigenstate})\")\n",
    "        num_successes += 1\n",
    "    else:\n",
    "        print(f\"Run {i+1}: Failure (eigval = {eigenvalue}, eigvec = {eigenstate})\")\n",
    "\n",
    "print(f\"Success Rate: {100*num_successes/num_runs}%\")"
   ]
  },
  {
   "cell_type": "code",
   "execution_count": 19,
   "metadata": {},
   "outputs": [],
   "source": [
    "def calculate_error(parsed_cnf, num_variables, result):\n",
    "    \"\"\"Calculate the NAE-3SAT error\n",
    "\n",
    "    Parameters\n",
    "    ----------\n",
    "    parsed_cnf: list(int)\n",
    "        the initial parsed CNF\n",
    "    num_variables: int\n",
    "        the number of variables used (without distinguishing x and not x)\n",
    "    result: list(int)\n",
    "        the resulting variable assignments\n",
    "\n",
    "    Returns\n",
    "    int, int\n",
    "        the NAE-SAT error and the consistency error, respectively\n",
    "    \"\"\"\n",
    "    \n",
    "    nae_sat_error = 0\n",
    "    consistency_error = 0\n",
    "    # Iterate over the clauses of the CNF\n",
    "    for i in range(0, len(parsed_cnf), 3):\n",
    "        v1 = result[parsed_cnf[i]]\n",
    "        v2 = result[parsed_cnf[i+1]]\n",
    "        v3 = result[parsed_cnf[i+2]]\n",
    "        # if clause is satisfied but not SAT-NAE, or if the clause is not satisfied, we add 1 to nae_sat_error\n",
    "        if v1 + v2 + v3 == 3 or v1 + v2 + v3 == 0:\n",
    "            nae_sat_error += 1\n",
    "    \n",
    "    for i in range(num_variables):\n",
    "        # if a variable is the same as its negation, we add 1 to consistency_error\n",
    "        if  i + num_variables < len(result) and result[i] == result[i+num_variables]:\n",
    "            consistency_error += 1\n",
    "    return nae_sat_error, consistency_error"
   ]
  },
  {
   "cell_type": "code",
   "execution_count": 25,
   "metadata": {},
   "outputs": [],
   "source": [
    "def compute_min_M_value(parsed_cnf):\n",
    "    \"\"\"Computes the minimal required M value for a CNF\n",
    "\n",
    "    Parameters\n",
    "    ----------\n",
    "    parsed_cnf: list(int)\n",
    "        the input CNF\n",
    "    \n",
    "    Returns\n",
    "    -------\n",
    "    int\n",
    "        the minimal penalty factor M\n",
    "    \"\"\"\n",
    "\n",
    "    pair_appearances = {}\n",
    "    for i in range(0, len(parsed_cnf), 3):\n",
    "        v_1 = parsed_cnf[i]\n",
    "        v_2 = parsed_cnf[i+1]\n",
    "        v_3 = parsed_cnf[i+2]\n",
    "    pair_appearances[(v_1,v_2)] = 1 if (v_1, v_2) not in pair_appearances else pair_appearances[(v_1, v_2)] + 1\n",
    "    pair_appearances[(v_1,v_3)] = 1 if (v_1, v_3) not in pair_appearances else pair_appearances[(v_1, v_3)] + 1\n",
    "    pair_appearances[(v_2,v_3)] = 1 if (v_2, v_3) not in pair_appearances else pair_appearances[(v_2, v_3)] + 1\n",
    "    max_appearance = 0\n",
    "    for key in pair_appearances:\n",
    "        if pair_appearances[key] > max_appearance:\n",
    "            max_appearance = pair_appearances[key]\n",
    "    return max_appearance + 1"
   ]
  },
  {
   "cell_type": "code",
   "execution_count": 43,
   "metadata": {},
   "outputs": [],
   "source": [
    "def predict_result_for_nae3sat_cnfs(nae_filename, runs_per_cnf):\n",
    "    \"\"\"Reads and solves NAE-3SAT CNFs from a file, outputs the success rate per CNF\n",
    "\n",
    "    Parameters\n",
    "    ----------\n",
    "    nae_filename: str\n",
    "        the name of the file containing NAE-3SAT CNFs\n",
    "    runs_per_cnf: int\n",
    "        the number of QAOA runs to do per CNF\n",
    "    \"\"\"\n",
    "\n",
    "    service = QiskitRuntimeService()\n",
    "    \n",
    "    nae_file = open(nae_filename, \"r\")\n",
    "    nae_cnfs = list(map(lambda elem: elem.replace(\"\\n\", \"\"), nae_file.readlines()))\n",
    "    nae_file.close()\n",
    "    num_nae_cnfs = len(nae_cnfs)\n",
    "    method = \"statevector\"\n",
    "    device = \"CPU\"\n",
    "    backend = AerSimulator(method=method, device=device)\n",
    "    qaoa = QAOA(optimizer=COBYLA(maxiter=1000), quantum_instance=backend, reps=1)\n",
    "\n",
    "    for cnf_index in range(len(nae_cnfs)):\n",
    "        [num_vars_str, cnf] = nae_cnfs[cnf_index].split(\" -- \")\n",
    "        num_vars = int(num_vars_str)\n",
    "        parsed_cnf, _ = parse_cnf_from_str(cnf, num_vars)\n",
    "        num_clauses = int(len(parsed_cnf)/3)\n",
    "        M = compute_min_M_value(parsed_cnf)\n",
    "        hamiltonian = create_problem_hamiltonian(num_vars, parsed_cnf, M)     \n",
    "        \n",
    "        individual_success_rate = 0\n",
    "        for i in range(runs_per_cnf):\n",
    "            output = None\n",
    "            with Session(service=service,backend=backend):\n",
    "                output = qaoa.compute_minimum_eigenvalue(hamiltonian)\n",
    "            eigenstate = list(map(lambda x: int(x), list(sample_most_likely(output.eigenstate))))[::-1] # not reversing here\n",
    "            nae_sat_error, consistency_error = calculate_error(parsed_cnf, num_vars, eigenstate)\n",
    "            if nae_sat_error + consistency_error == 0:\n",
    "                individual_success_rate += 1\n",
    "        print(f\"Success Rate For ({num_vars}, {num_clauses}): {100*individual_success_rate/runs_per_cnf}\")\n",
    "        print(f\"Progress: {cnf_index+1}/{num_nae_cnfs}\")"
   ]
  },
  {
   "cell_type": "code",
   "execution_count": null,
   "metadata": {},
   "outputs": [],
   "source": [
    "predict_result_for_nae3sat_cnfs(\"nae3sat_cnfs.txt\", 10)"
   ]
  }
 ],
 "metadata": {
  "kernelspec": {
   "display_name": "base",
   "language": "python",
   "name": "python3"
  },
  "language_info": {
   "codemirror_mode": {
    "name": "ipython",
    "version": 3
   },
   "file_extension": ".py",
   "mimetype": "text/x-python",
   "name": "python",
   "nbconvert_exporter": "python",
   "pygments_lexer": "ipython3",
   "version": "3.10.6"
  },
  "orig_nbformat": 4,
  "vscode": {
   "interpreter": {
    "hash": "755e4fffd9863c34f50e22b8e332f3644d6e20de7303d9ee8e0d45660608a2f5"
   }
  }
 },
 "nbformat": 4,
 "nbformat_minor": 2
}
