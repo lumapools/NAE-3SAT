{
 "cells": [
  {
   "attachments": {},
   "cell_type": "markdown",
   "metadata": {},
   "source": [
    "## SAT-NAE\n",
    "\n",
    "### Aim\n",
    "Given a SAT problem, solve it such that for each clause, have at least one variable to be set to false."
   ]
  },
  {
   "attachments": {},
   "cell_type": "markdown",
   "metadata": {},
   "source": [
    "### Example\n",
    "\n",
    "We aim to solve a 3-SAT problem of the form\n",
    "\n",
    "$(x_1 \\lor x_2 \\lor \\neg x_3) \\land (x_3 \\lor \\neg x_1 \\lor \\neg x_6) \\land (\\neg x_2 \\lor x_4 \\lor x_5) \\land (\\neg x_4 \\lor \\neg x_5 \\lor x_6)$\n",
    "\n",
    "such that each clause $C$ must satisfy that for the three variables in $C$, at least one is true, and at least one is false. By setting $w_i = (-1)^{x_i}$, we aim to solve:\n",
    "\n",
    "$\\displaystyle \\max\\limits_{w_i \\in \\{-1,1\\}} \\sum\\limits_{c\\in C}\\frac{3}{4}-\\frac{1}{4}(w_iw_j + w_iw_k + w_jw_k) \\equiv \\frac{3}{4}|C| - \\frac{1}{4} \\min\\limits_{w_i \\in \\{-1, 1\\}} \\sum\\limits_{c\\in C}(w_iw_j + w_iw_k + w_jw_k)$.\n",
    "\n",
    "Thus, our problem becomes:\n",
    "\n",
    "$\\displaystyle \\min\\limits_{w_i \\in \\{-1, 1\\}} \\sum\\limits_{c\\in C}(w_iw_j + w_iw_k + w_jw_k) + M\\sum\\limits_{i=1}^n (w_i w_{i+n})$\n",
    "\n",
    "where the second sum accounts for a penalty where we want to ensure that $w_i$ and $\\neg w_i$ indeed hold different values (and M is a sufficiently large positive number)"
   ]
  },
  {
   "attachments": {},
   "cell_type": "markdown",
   "metadata": {},
   "source": [
    "## Try for QAOA Form\n",
    "$\\sum\\limits_{c \\in C} (Z_iZ_j+Z_iZ_k+Z_jZ_k) + M\\sum\\limits_{i=1}^n(Z_iZ_{i+n})$"
   ]
  },
  {
   "attachments": {},
   "cell_type": "markdown",
   "metadata": {},
   "source": [
    "## Encode SAT Formula\n",
    "\n",
    "- Number of variables = $n$\n",
    "- Number of qubits that we will use: $2n$\n",
    "- Encode the variables into their indices (i.e. $x_1 \\implies 1$, $x_5 \\implies 5$)\n",
    "- Replace the negation of variable $i$ with ($i+n$)\n",
    "\n",
    "### Example\n",
    "- Input: (1 or 2 or not 3) and (not 1 or 2 or 3)\n",
    "- Problem properties: $n = 3 \\implies 2n = nqubits = 6$ \n",
    "- Output: $\\left[[1,2,6], [4,2,3]\\right]$"
   ]
  },
  {
   "cell_type": "code",
   "execution_count": 1,
   "metadata": {},
   "outputs": [],
   "source": [
    "from qiskit.algorithms.optimizers import COBYLA\n",
    "from qiskit.algorithms import QAOA\n",
    "from qiskit_ibm_runtime import QiskitRuntimeService\n",
    "from qiskit.providers.aer import AerSimulator\n",
    "from qiskit.circuit.library import QAOAAnsatz\n",
    "from qiskit_ibm_runtime import Session\n",
    "import itertools"
   ]
  },
  {
   "cell_type": "code",
   "execution_count": 2,
   "metadata": {},
   "outputs": [],
   "source": [
    "## Some constants\n",
    "NEG_TEXT = \"not \"\n",
    "AND_TEXT = \" and \"\n",
    "OR_TEXT = \" or \""
   ]
  },
  {
   "attachments": {},
   "cell_type": "markdown",
   "metadata": {},
   "source": [
    "## Parser Code"
   ]
  },
  {
   "cell_type": "code",
   "execution_count": 3,
   "metadata": {},
   "outputs": [],
   "source": [
    "\"\"\"\n",
    "Parses the input formula (string) and outputs a list of clauses, where each clause contains a variable (negated if necessary)\n",
    "Clauses must be of the form (x_1 or not x_2 or x_3) divided by the \" and \" keyword. x_1, x_2 and x_3 have to be indices\n",
    "(i.e. x_1 === 0, x_2 === 1, x_3 === 3)\n",
    "\"\"\"\n",
    "def parse_formula(formula, num_variables):\n",
    "    clauses_text = formula.split(AND_TEXT)\n",
    "    # split the clauses by the OR_TEXT keyword to parse them individually\n",
    "    clauses_simplified = list(map(lambda clause_text: clause_text.split(OR_TEXT), clauses_text))\n",
    "    for i in range(len(clauses_simplified)):\n",
    "        for j in range(len(clauses_simplified[i])):\n",
    "            # Remove the parentheses\n",
    "            clauses_simplified[i][j] = clauses_simplified[i][j].replace('(', '')\n",
    "            clauses_simplified[i][j] = clauses_simplified[i][j].replace(')', '')\n",
    "            if clauses_simplified[i][j].startswith(NEG_TEXT):\n",
    "                var_index = clauses_simplified[i][j]\n",
    "                negated = clauses_simplified[i][j].startswith(NEG_TEXT)\n",
    "                if negated:\n",
    "                    # assign the index i+n to the negated variable i\n",
    "                    clauses_simplified[i][j] = int(clauses_simplified[i][j].split(\" \")[-1])+num_variables\n",
    "        clauses_simplified[i] = list(map(lambda x: int(x), clauses_simplified[i]))\n",
    "\n",
    "    return clauses_simplified"
   ]
  },
  {
   "attachments": {},
   "cell_type": "markdown",
   "metadata": {},
   "source": [
    "### Example\n",
    "\n",
    "We aim to solve a 3-SAT problem of the form\n",
    "\n",
    "$(x_1 \\lor x_2 \\lor \\neg x_3) \\land (x_3 \\lor \\neg x_1 \\lor \\neg x_6) \\land (\\neg x_2 \\lor x_4 \\lor x_5) \\land (\\neg x_4 \\lor \\neg x_5 \\lor x_6)$\n",
    "\n",
    "such that each clause $C$ must satisfy that for the three variables in $C$, at least one is true, and at least one is false. By setting $w_i = (-1)^{x_i}$, we aim to solve:\n",
    "\n",
    "### General Case Formula\n",
    "\n",
    "$\\displaystyle \\max\\limits_{w_i \\in \\{-1,1\\}} \\sum\\limits_{c\\in C}\\frac{3}{4}-\\frac{1}{4}(w_iw_j + w_iw_k + w_jw_k) \\equiv \\frac{3}{4}|C| - \\frac{1}{4} \\min\\limits_{w_i \\in \\{-1, 1\\}} \\sum\\limits_{c\\in C}(w_iw_j + w_iw_k + w_jw_k)$.\n",
    "\n",
    "Thus, our problem becomes:\n",
    "\n",
    "$\\displaystyle \\min\\limits_{w_i \\in \\{-1, 1\\}} \\sum\\limits_{c\\in C}(w_iw_j + w_iw_k + w_jw_k) + M\\sum\\limits_{i=1}^n (w_i w_{i+n})$\n",
    "\n",
    "where the second sum accounts for a penalty where we want to ensure that $w_i$ and $\\neg w_i$ indeed hold different values (and M is a sufficiently large positive number).\n",
    "\n",
    "In this notebook, I chose `M = M_FACTOR*num_variables`"
   ]
  },
  {
   "attachments": {},
   "cell_type": "markdown",
   "metadata": {},
   "source": [
    "## Try for QAOA Form\n",
    "$\\sum\\limits_{c \\in C} (Z_iZ_j+Z_iZ_k+Z_jZ_k) + M\\sum\\limits_{i=1}^n(Z_iZ_{i+n})$"
   ]
  },
  {
   "attachments": {},
   "cell_type": "markdown",
   "metadata": {},
   "source": [
    "## Create the Problem Hamiltonian"
   ]
  },
  {
   "cell_type": "code",
   "execution_count": 4,
   "metadata": {},
   "outputs": [],
   "source": [
    "from qiskit.opflow import I, Z\n",
    "\n",
    "\"\"\"\n",
    "Prepares a zero Hamiltonian of for num_variables qubits (i.e. a 2^n x 2^n zero matrix)\n",
    "\"\"\"\n",
    "def create_zero_hamiltonian(num_variables):\n",
    "    zero_H = I-I # 2x2 0-matrix\n",
    "    result = zero_H\n",
    "    for i in range(2*num_variables-1):\n",
    "        result = result^zero_H\n",
    "    return result\n",
    "\n",
    "\"\"\"\n",
    "Creates the 3SAT-NAE problem Hamiltonian (to later be used by QAOA)\n",
    "\"\"\"\n",
    "def create_problem_hamiltonian(num_variables, problem_input, penalty_factor):\n",
    "    h_p_p1 = create_zero_hamiltonian(num_variables)\n",
    "    # Create first sum (triangle max-cut Hamiltonian per clause)\n",
    "    for clause in problem_input:\n",
    "        clause_H = create_zero_hamiltonian(num_variables)\n",
    "        pairs = [(clause[0], clause[1]), (clause[0], clause[2]), (clause[1], clause[2])]\n",
    "        for pair in pairs:\n",
    "            pairH = 1\n",
    "            for i in range(2*num_variables):\n",
    "                if pair[0] == i or pair[1] == i:\n",
    "                    pairH = pairH^Z\n",
    "                else:\n",
    "                    pairH = pairH^I\n",
    "            clause_H += pairH\n",
    "        h_p_p1 += clause_H\n",
    "\n",
    "    # Create second sum (penalty term)\n",
    "    h_p_p2 = create_zero_hamiltonian(num_variables)\n",
    "    for i in range(num_variables):\n",
    "        temp_h_p_p2 = 1\n",
    "        for j in range(2*num_variables):\n",
    "            if j == i or j == num_variables+i:\n",
    "                temp_h_p_p2 = temp_h_p_p2^Z\n",
    "            else:\n",
    "                temp_h_p_p2 = temp_h_p_p2^I\n",
    "        h_p_p2 += temp_h_p_p2\n",
    "    h_p_p2 *= penalty_factor\n",
    "    return h_p_p1 + h_p_p2"
   ]
  },
  {
   "attachments": {},
   "cell_type": "markdown",
   "metadata": {},
   "source": [
    "## Verify the consistency and problem constraint satisfactions"
   ]
  },
  {
   "cell_type": "code",
   "execution_count": 5,
   "metadata": {},
   "outputs": [],
   "source": [
    "\"\"\"\n",
    "Verifies if the variable assignments are consistent (i.e. make sure that x and not(x) evaluate to different values)\n",
    "Returns a boolean (True if the assignments are consistent, False otherwise)\n",
    "\"\"\"\n",
    "def verify_consistency(assignments, num_variables, show_info=True):\n",
    "    for i in range(num_variables):\n",
    "        # Check if the assignment to x and indeed not x are the same\n",
    "        if assignments[i] == assignments[i+num_variables]:\n",
    "            return False\n",
    "    return True"
   ]
  },
  {
   "cell_type": "code",
   "execution_count": 6,
   "metadata": {},
   "outputs": [],
   "source": [
    "\"\"\"\n",
    "Verifies if the formula is satsified or not (with additional checks for the NAE constraint).\n",
    "Returns a boolean (True if both constraints are satisfied, False otherwise)\n",
    "\"\"\"\n",
    "def verify(result, sat_nae, num_variables):\n",
    "    clause_values = []\n",
    "    nae_holds = True\n",
    "    for clause_index in range(len(sat_nae)):\n",
    "        clause_value = False\n",
    "        clause_and = True # do an AND inside each clause to check for NAE\n",
    "        for i in range(3): # Because 3 variables per clause\n",
    "            if sat_nae[clause_index][i] < num_variables:\n",
    "                result[sat_nae[clause_index][i]]\n",
    "                clause_value = clause_value or bool(result[sat_nae[clause_index][i]])\n",
    "                clause_and = clause_and and bool(result[sat_nae[clause_index][i]])\n",
    "            else:\n",
    "                clause_value = clause_value or not bool(result[sat_nae[clause_index][i]-num_variables])\n",
    "                clause_and = clause_and and bool(result[sat_nae[clause_index][i]])\n",
    "        clause_values.append(clause_value)\n",
    "        if clause_and:\n",
    "            nae_holds = False\n",
    "    final_value = True\n",
    "    nae_value = True\n",
    "    for i in range(len(clause_values)):\n",
    "        final_value = final_value and clause_values[i]\n",
    "    if final_value and nae_holds:\n",
    "        return True\n",
    "    else:\n",
    "        return False"
   ]
  },
  {
   "cell_type": "code",
   "execution_count": 7,
   "metadata": {},
   "outputs": [],
   "source": [
    "# Cell copied from https://qiskit.org/documentation/tutorials/algorithms/05_qaoa.html\n",
    "from collections import OrderedDict\n",
    "from qiskit.opflow import StateFn\n",
    "import numpy as np\n",
    "\n",
    "\n",
    "def sample_most_likely(state_vector):\n",
    "    \"\"\"Compute the most likely binary string from state vector.\n",
    "    Args:\n",
    "        state_vector (numpy.ndarray or dict): state vector or counts.\n",
    "    Returns:\n",
    "        numpy.ndarray: binary string as numpy.ndarray of ints.\n",
    "    \"\"\"\n",
    "    if isinstance(state_vector, (OrderedDict, dict)):\n",
    "        # get the binary string with the largest count\n",
    "        binary_string = sorted(state_vector.items(), key=lambda kv: kv[1])[-1][0]\n",
    "        x = np.asarray([int(y) for y in reversed(list(binary_string))])\n",
    "        return x\n",
    "    elif isinstance(state_vector, StateFn):\n",
    "        binary_string = list(state_vector.sample().keys())[0]\n",
    "        x = np.asarray([int(y) for y in reversed(list(binary_string))])\n",
    "        return x\n",
    "    else:\n",
    "        n = int(np.log2(state_vector.shape[0]))\n",
    "        k = np.argmax(np.abs(state_vector))\n",
    "        x = np.zeros(n)\n",
    "        for i in range(n):\n",
    "            x[i] = k % 2\n",
    "            k >>= 1\n",
    "        return x"
   ]
  },
  {
   "attachments": {},
   "cell_type": "markdown",
   "metadata": {},
   "source": [
    "## Input CNF\n",
    "A 3SAT CNF is of the form $(x_1 \\lor x_2 \\lor x_3) \\land (\\neg x_2 \\lor x_3 \\lor x_4)$ for example\n",
    "\n",
    "In this notebook, we will assume that the cnf variables ($x_1, x_2, ...$) are given as integers (starting from 0) instead of strings, i.e.\n",
    "$x_1 \\mapsto 0$, $x_2 \\mapsto 1$, etc... This is not very intuitive but it makes parsing easier. We might change it later.\n",
    "\n",
    "- $\\neg$ operator: The negation is denoted by an `n` in front of a particular variable $\\implies$ Ex: $\\neg x_2 \\mapsto$ `not 2`\n",
    "- $\\lor$ operator: The $\\lor$ operator is denoted by the ` or ` keyword. $\\implies$ Ex: $x_1 \\lor \\neg x_2 \\lor x_3 \\mapsto$ `(0 or not 1 or 2)` \n",
    "- $\\land$ operator: The $\\land$ operator is denoted by the ` and ` keyword between clauses $\\implies$ Ex: $(x_1 \\lor \\neg x_2 \\lor x_3) \\land (\\neg x_1 \\lor \\neg x_2 \\lor \\neg x_3) \\mapsto$ `(0 or not 1 or 2) and (not 0 or not 1 or not 2)`\n",
    "\n",
    "Therefore, for example, given the following CNF:\n",
    "\n",
    "$(x_1 \\lor x_2 \\lor \\neg x_3) \\land (x_3 \\lor \\neg x_1 \\lor \\neg x_6) \\land (\\neg x_2 \\lor x_4 \\lor x_5) \\land (\\neg x_4 \\lor \\neg x_5 \\lor x_6)$\n",
    "\n",
    "the input CNF to this program will be formulated as\n",
    "\n",
    "`(0 or 1 or not 2) and (2 or not 0 or not 5) and (not 1 or 3 or 4) and (not 3 or not 4 or 5)` (as a string)"
   ]
  },
  {
   "cell_type": "code",
   "execution_count": 10,
   "metadata": {},
   "outputs": [
    {
     "name": "stdout",
     "output_type": "stream",
     "text": [
      "[[0, 1, 8], [2, 6, 11], [7, 3, 4], [9, 10, 5]]\n"
     ]
    }
   ],
   "source": [
    "num_variables = int(input(\"Enter the number of variables in the formula: \"))\n",
    "formula = input(\"Enter a CNF (example: (0 or 1 or not 2) and (not 0 or 3 or 4): \")\n",
    "# example: (0 or 1 or not 2) and (2 or not 0 or not 5) and (not 1 or 3 or 4) and (not 3 or not 4 or 5)\n",
    "# example: (0 or 1 or 2) and (not 0 or 1 or 2) and (0 or not 1 or 2) and (0 or 1 or not 2)\n",
    "\n",
    "sat_nae = parse_formula(formula, num_variables)\n",
    "print(sat_nae)\n",
    "M = 30 # penalty factor"
   ]
  },
  {
   "cell_type": "code",
   "execution_count": 12,
   "metadata": {},
   "outputs": [
    {
     "name": "stdout",
     "output_type": "stream",
     "text": [
      "0.0 * IIIIIIIIIIII\n",
      "+ 0.0 * IIIIIIIIIIII\n",
      "+ 1.0 * ZZIIIIIIIIII\n",
      "+ 1.0 * ZIIIIIIIZIII\n",
      "+ 1.0 * IZIIIIIIZIII\n",
      "+ 0.0 * IIIIIIIIIIII\n",
      "+ 1.0 * IIZIIIZIIIII\n",
      "+ 1.0 * IIZIIIIIIIIZ\n",
      "+ 1.0 * IIIIIIZIIIIZ\n",
      "+ 0.0 * IIIIIIIIIIII\n",
      "+ 1.0 * IIIZIIIZIIII\n",
      "+ 1.0 * IIIIZIIZIIII\n",
      "+ 1.0 * IIIZZIIIIIII\n",
      "+ 0.0 * IIIIIIIIIIII\n",
      "+ 1.0 * IIIIIIIIIZZI\n",
      "+ 1.0 * IIIIIZIIIZII\n",
      "+ 1.0 * IIIIIZIIIIZI\n",
      "+ 0.0 * IIIIIIIIIIII\n",
      "+ 30.0 * ZIIIIIZIIIII\n",
      "+ 30.0 * IZIIIIIZIIII\n",
      "+ 30.0 * IIZIIIIIZIII\n",
      "+ 30.0 * IIIZIIIIIZII\n",
      "+ 30.0 * IIIIZIIIIIZI\n",
      "+ 30.0 * IIIIIZIIIIIZ\n"
     ]
    }
   ],
   "source": [
    "from qiskit.algorithms import NumPyMinimumEigensolver\n",
    "h_p = create_problem_hamiltonian(num_variables, sat_nae, M)\n",
    "classical_eigensolver = NumPyMinimumEigensolver()\n",
    "print(h_p)"
   ]
  },
  {
   "cell_type": "code",
   "execution_count": null,
   "metadata": {},
   "outputs": [],
   "source": [
    "# Get the theoretical Max-Cut value according to the previous formula\n",
    "def get_theoretical_maxcut_value(G, parsed_cnf, num_variables, M):\n",
    "    \"\"\"Compute the theoretical max-cut value\n",
    "    \n",
    "    Parameters\n",
    "    ----------\n",
    "    G : nx.Graph\n",
    "        the graph whose max-cut to compute\n",
    "    parsed_cnf : list(int)\n",
    "        the parsed cnf containing values in [0, 2N-1]\n",
    "    num_variables: int\n",
    "        the number of variables used in the CNF (= N)\n",
    "    M : int\n",
    "        the penalty factor for consistency\n",
    "\n",
    "    Returns\n",
    "    -------\n",
    "    float\n",
    "        the theoretical max-cut value\n",
    "    \"\"\"\n",
    "    # cnf_contribution is the second part of the MaxCutValue_theory above\n",
    "    cut_value = 0\n",
    "    for u,v in G.edges:\n",
    "        cut_value += G[u][v][\"weight\"]/2\n",
    "        \n",
    "    for i in range(num_variables):\n",
    "        if i in parsed_cnf and i + num_variables in parsed_cnf:\n",
    "            cut_value += M/2\n",
    "    cut_value += len(parsed_cnf)/6\n",
    "    return cut_value\n"
   ]
  },
  {
   "attachments": {},
   "cell_type": "markdown",
   "metadata": {},
   "source": [
    "## Run QAOA"
   ]
  },
  {
   "cell_type": "code",
   "execution_count": 14,
   "metadata": {},
   "outputs": [
    {
     "name": "stdout",
     "output_type": "stream",
     "text": [
      "Theoretical ground state energy: -184\n",
      "Run 1: Success (eigval = -163.4481981502455, eigvec = [0, 0, 0, 1, 0, 1, 1, 1, 1, 0, 1, 0])\n",
      "Run 2: Success (eigval = -154.2263314274847, eigvec = [0, 1, 0, 0, 1, 0, 1, 0, 1, 1, 0, 1])\n",
      "Run 3: Success (eigval = -166.7984436813513, eigvec = [0, 1, 1, 1, 1, 1, 1, 0, 0, 0, 0, 0])\n",
      "Run 4: Failure (eigval = -171.29899895672014, eigvec = [1, 0, 0, 0, 1, 1, 0, 1, 1, 1, 0, 0])\n",
      "Run 5: Success (eigval = -175.88347466963575, eigvec = [0, 1, 0, 0, 1, 0, 1, 0, 1, 1, 0, 1])\n",
      "Run 6: Success (eigval = -176.77415413303888, eigvec = [0, 1, 1, 1, 1, 1, 1, 0, 0, 0, 0, 0])\n",
      "Run 7: Success (eigval = -139.24016406943448, eigvec = [0, 1, 1, 1, 1, 1, 1, 0, 0, 0, 0, 0])\n",
      "Run 8: Success (eigval = -178.71388963340803, eigvec = [0, 1, 0, 1, 0, 0, 1, 0, 1, 0, 1, 1])\n",
      "Run 9: Success (eigval = -175.94062155637823, eigvec = [0, 0, 0, 0, 1, 1, 1, 1, 1, 1, 0, 0])\n",
      "Run 10: Success (eigval = -150.1395044743771, eigvec = [1, 1, 1, 0, 1, 1, 0, 0, 0, 1, 0, 0])\n",
      "Run 11: Failure (eigval = -153.238015996064, eigvec = [1, 1, 0, 0, 0, 1, 0, 0, 1, 1, 1, 0])\n",
      "Run 12: Success (eigval = -143.08499125232618, eigvec = [0, 0, 0, 1, 0, 1, 1, 1, 1, 0, 1, 0])\n",
      "Run 13: Failure (eigval = -158.8783606724083, eigvec = [0, 0, 1, 1, 1, 0, 1, 1, 0, 0, 0, 1])\n",
      "Run 14: Success (eigval = -152.60100354570037, eigvec = [0, 1, 1, 1, 1, 1, 1, 0, 0, 0, 0, 0])\n",
      "Run 15: Success (eigval = -176.61615739466018, eigvec = [0, 0, 0, 1, 0, 1, 1, 1, 1, 0, 1, 0])\n",
      "Run 16: Failure (eigval = -64.55587205036693, eigvec = [0, 0, 1, 1, 1, 0, 1, 1, 0, 0, 0, 1])\n",
      "Run 17: Success (eigval = -160.88509683231817, eigvec = [1, 1, 1, 1, 0, 0, 0, 0, 0, 0, 1, 1])\n",
      "Run 18: Success (eigval = -171.18627982823995, eigvec = [0, 0, 0, 0, 1, 1, 1, 1, 1, 1, 0, 0])\n",
      "Run 19: Failure (eigval = -157.20899099827673, eigvec = [0, 0, 1, 1, 1, 0, 1, 1, 0, 0, 0, 1])\n",
      "Run 20: Success (eigval = -154.4552862502904, eigvec = [0, 0, 0, 0, 0, 0, 1, 1, 1, 1, 1, 1])\n",
      "Success Rate: 75.0%\n"
     ]
    }
   ],
   "source": [
    "service = QiskitRuntimeService()\n",
    "method = \"statevector\"\n",
    "device = \"CPU\"\n",
    "backend = AerSimulator(method=method, device=device)\n",
    "ansatz = QAOAAnsatz(h_p)\n",
    "session = Session(backend=backend)\n",
    "service = QiskitRuntimeService()\n",
    "\n",
    "from qiskit.algorithms.optimizers import NFT\n",
    "from qiskit.algorithms import VQE\n",
    "from qiskit.circuit.library import EfficientSU2\n",
    "\n",
    "# For testing\n",
    "num_successes = 0\n",
    "num_runs = 20\n",
    "\n",
    "# Running using Qiskit Runtime\n",
    "qaoa = QAOA(optimizer=COBYLA(maxiter=1000), quantum_instance=backend, reps=3)\n",
    "output = None\n",
    "\n",
    "# Compute theoretical GSE\n",
    "num_negated_variables = 0\n",
    "flattened_cnf = list(itertools.chain.from_iterable(sat_nae))\n",
    "for i in range(num_variables):\n",
    "    if i in flattened_cnf and i+num_variables in flattened_cnf:\n",
    "        num_negated_variables += 1\n",
    "ground_state_value = -len(sat_nae) -M*num_negated_variables\n",
    "\n",
    "print(f\"Theoretical ground state energy: {ground_state_value}\")\n",
    "\n",
    "for i in range(num_runs):\n",
    "    with Session(service=service,backend=backend) as session:\n",
    "        output = qaoa.compute_minimum_eigenvalue(h_p)\n",
    "    eigenstate = list(map(lambda x: int(x), list(sample_most_likely(output.eigenstate))[::-1]))\n",
    "    eigenvalue = output.eigenvalue.real\n",
    "    if verify_consistency(eigenstate, num_variables) and verify(eigenstate, sat_nae, num_variables):\n",
    "        print(f\"Run {i+1}: Success (eigval = {eigenvalue}, eigvec = {eigenstate})\")\n",
    "        num_successes += 1\n",
    "    else:\n",
    "        print(f\"Run {i+1}: Failure (eigval = {eigenvalue}, eigvec = {eigenstate})\")\n",
    "\n",
    "print(f\"Success Rate: {100*num_successes/num_runs}%\")"
   ]
  }
 ],
 "metadata": {
  "kernelspec": {
   "display_name": "base",
   "language": "python",
   "name": "python3"
  },
  "language_info": {
   "codemirror_mode": {
    "name": "ipython",
    "version": 3
   },
   "file_extension": ".py",
   "mimetype": "text/x-python",
   "name": "python",
   "nbconvert_exporter": "python",
   "pygments_lexer": "ipython3",
   "version": "3.10.6"
  },
  "orig_nbformat": 4,
  "vscode": {
   "interpreter": {
    "hash": "755e4fffd9863c34f50e22b8e332f3644d6e20de7303d9ee8e0d45660608a2f5"
   }
  }
 },
 "nbformat": 4,
 "nbformat_minor": 2
}
