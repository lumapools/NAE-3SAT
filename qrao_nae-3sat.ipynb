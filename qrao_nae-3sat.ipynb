{
 "cells": [
  {
   "cell_type": "code",
   "execution_count": 1,
   "metadata": {},
   "outputs": [],
   "source": [
    "from qiskit import *\n",
    "from qiskit.circuit.library import *\n",
    "from qiskit.providers.aer import AerSimulator\n",
    "method = \"statevector\"\n",
    "device = \"CPU\"\n",
    "backend = AerSimulator(method=method, device=device)"
   ]
  },
  {
   "cell_type": "code",
   "execution_count": 2,
   "metadata": {},
   "outputs": [],
   "source": [
    "from qrao import QuantumRandomAccessEncoding, QuantumRandomAccessOptimizer, MagicRounding\n",
    "from qiskit.utils import QuantumInstance\n",
    "import networkx as nx\n",
    "from qiskit_optimization.applications import Maxcut\n",
    "from qiskit.circuit.library import EfficientSU2\n",
    "from qiskit.algorithms.optimizers import NFT\n",
    "from qiskit_aer.primitives import Estimator\n",
    "from qiskit.algorithms.minimum_eigensolvers import VQE\n",
    "import matplotlib.pyplot as plt\n",
    "import multiprocessing"
   ]
  },
  {
   "attachments": {},
   "cell_type": "markdown",
   "metadata": {},
   "source": [
    "## 1) Input CNF\n",
    "A 3SAT CNF is of the form $(x_1 \\lor x_2 \\lor x_3) \\land (\\neg x_2 \\lor x_3 \\lor x_4)$ for example\n",
    "\n",
    "In this notebook, we will assume that the cnf variables ($x_1, x_2, ...$) are given as integers (starting from 0) instead of strings, i.e.\n",
    "$x_1 \\mapsto 0$, $x_2 \\mapsto 1$, etc... This is not very intuitive but it makes parsing easier. We might change it later.\n",
    "\n",
    "- $\\neg$ operator: The negation is denoted by an `n` in front of a particular variable $\\implies$ Ex: $\\neg x_2 \\mapsto$ `n3`\n",
    "- $\\lor$ operator: The $\\lor$ operator is denoted by a space between operands $\\implies$ Ex: $x_1 \\lor \\neg x_2 \\lor x_3 \\mapsto$ `0 n1 2` \n",
    "- $\\land$ operator: The $\\land$ operator is denoted by a comma (`,`) between clauses $\\implies$ Ex: $(x_1 \\lor \\neg x_2 \\lor x_3) \\land (\\neg x_1 \\lor \\neg x_2 \\lor \\neg x_3) \\mapsto$ `0 n1 2,n0 n1 n2`\n",
    "\n",
    "Therefore, for example, given the following CNF:\n",
    "\n",
    "$(x_1 \\lor x_2 \\lor \\neg x_3) \\land (x_3 \\lor \\neg x_1 \\lor \\neg x_6) \\land (\\neg x_2 \\lor x_4 \\lor x_5) \\land (\\neg x_4 \\lor \\neg x_5 \\lor x_6)$\n",
    "\n",
    "the input CNF to this program will be formulated as\n",
    "\n",
    "`0 1 n2,2 n0 n5,n1 3 4,n3 n4 5` (as a string)\n"
   ]
  },
  {
   "attachments": {},
   "cell_type": "markdown",
   "metadata": {},
   "source": [
    "### Parsing the Input CNF\n",
    "Given an input CNF, we want to parse is so that\n",
    "- Instead of having variables `0`, `1`, `2`..., `n0`, `n1`, `n2`, ... we will work with only integers from now on, therefore we will transform the input CNF into a list of integers such that `x` $\\mapsto$ `x`, and `nx` $\\mapsto$ `x+N` (where `N` is the number of variables)\n",
    "- Ex: `0 1 n2,2 n0 n5,n1 3 4,n3 n4 5` will be parsed to `parsed_cnf = [0,1,8,2,6,11,7,3,4,9,10,5]`\n",
    "- We don't need commas or spaces anymore since we know that the input is a 3SAT CNF, so we know the first clause is represented by `(0,1,8)`, the second one by `(2,6,11)`, etc.\n",
    "\n",
    "The function `parse_cnf()` will ask for two inputs from the user:\n",
    "- The number of variables (here we count $x$ and $\\neg x$ as one variable), so the CNF above has `6` variables.\n",
    "- The CNF (ex: `0 1 n2,2 n0 n5,n1 3 4,n3 n4 5`)"
   ]
  },
  {
   "cell_type": "code",
   "execution_count": 3,
   "metadata": {},
   "outputs": [],
   "source": [
    "def parse_cnf():\n",
    "    \"\"\"Asks the user to input the number of variables used and the CNF itself, and parses the CNF\n",
    "\n",
    "    Returns\n",
    "    -------\n",
    "    list(int)\n",
    "        the parsed CNF according to the conventions we decide to use\n",
    "    \"\"\"\n",
    "    num_variables = int(input(\"Enter the number of variables: \"))\n",
    "    cnf = input(\"Enter the CNF of the form above (ex: 0 1 2,0 n1 2): \")\n",
    "    clauses = cnf.replace(\",\", \" \")\n",
    "    parsed_cnf = clauses.split(\" \")\n",
    "    for i in range(len(parsed_cnf)):\n",
    "        if parsed_cnf[i].startswith(\"n\"):\n",
    "            parsed_cnf[i] = str(int(parsed_cnf[i][1:])+num_variables)\n",
    "    parsed_cnf = list(map(lambda elem: int(elem), parsed_cnf))\n",
    "    return parsed_cnf, num_variables"
   ]
  },
  {
   "cell_type": "code",
   "execution_count": 4,
   "metadata": {},
   "outputs": [
    {
     "name": "stdout",
     "output_type": "stream",
     "text": [
      "Parsed CNF: [0, 1, 2, 3, 1, 2, 0, 4, 2, 0, 1, 5]\n"
     ]
    }
   ],
   "source": [
    "# Example: \n",
    "# - Number of variables: 6\n",
    "# - CNF: 0 1 n2,2 n0 n5,n1 3 4,n3 n4 5\n",
    "parsed_cnf, num_variables = parse_cnf()\n",
    "print(f\"Parsed CNF: {parsed_cnf}\")"
   ]
  },
  {
   "attachments": {},
   "cell_type": "markdown",
   "metadata": {},
   "source": [
    "## 2) Create a graph from the CNF\n",
    "Let us transform the CNF into a graph $G$, where\n",
    "- Each clause maps to a triangle\n",
    "- The weight of an edge $(i,j)$, $W_{ij}$, is set to $M$ if $j = i+N$, otherwise it is set to the number of triangles that share the edge $(i,j)$."
   ]
  },
  {
   "cell_type": "code",
   "execution_count": 5,
   "metadata": {},
   "outputs": [],
   "source": [
    "# Create a graph G from an already-parsed CNF\n",
    "def create_maxcut_graph(parsed_cnf, num_variables, penalty_factor):\n",
    "    \"\"\"Creates a weighted graph from a CNF\n",
    "\n",
    "    Parameters\n",
    "    ----------\n",
    "    parsed_cnf : list(int)\n",
    "        the parsed cnf containing values in [0, 2N-1]\n",
    "    num_variables : int\n",
    "        the number of variables used in the CNF (= N)\n",
    "    penalty_factor: int\n",
    "        the penalty factor used for assuring consistency\n",
    "\n",
    "    Returns\n",
    "    -------\n",
    "    nx.Graph\n",
    "        the obtained graph\n",
    "    \"\"\"\n",
    "    \n",
    "    # All the variables used in the parsed cnf (ranging from 0 to 2N-1)\n",
    "    cnf_variables = set(parsed_cnf)\n",
    "\n",
    "    # All the variables used in the original CNF (ranging from 0 to N-1)\n",
    "    variables = set(range(num_variables))\n",
    "\n",
    "    # Will contain the weight associated with each edge (i,j)\n",
    "    edge_weights = {}\n",
    "\n",
    "    G = nx.Graph()\n",
    "\n",
    "    # Create the vertices\n",
    "    vertices = list(cnf_variables)\n",
    "    G.add_nodes_from(vertices)\n",
    "    # Iterate over the parsed CNF per clause (3 elements by 3 elements)\n",
    "    for i in range(0, len(parsed_cnf), 3):\n",
    "\n",
    "        # First edge\n",
    "        # If that edge already exists in the map, add 1 to its value\n",
    "        if (parsed_cnf[i], parsed_cnf[i+1]) in edge_weights:\n",
    "            edge_weights[(parsed_cnf[i], parsed_cnf[i+1])] = edge_weights[(parsed_cnf[i], parsed_cnf[i+1])] + 1\n",
    "        else: # Otherwise, set the weight value to 1\n",
    "            edge_weights[(parsed_cnf[i], parsed_cnf[i+1])] = 1\n",
    "\n",
    "        # Second edge\n",
    "        # If that edge already exists in the map, add 1 to its value\n",
    "        if (parsed_cnf[i], parsed_cnf[i+2]) in edge_weights:\n",
    "            edge_weights[(parsed_cnf[i], parsed_cnf[i+2])] = edge_weights[(parsed_cnf[i], parsed_cnf[i+2])] + 1\n",
    "        else: # Otherwise, set the weight value to 1\n",
    "            edge_weights[(parsed_cnf[i], parsed_cnf[i+2])] = 1\n",
    "\n",
    "        # Third edge\n",
    "        # If that edge already exists in the map, add 1 to its value\n",
    "        if (parsed_cnf[i+1], parsed_cnf[i+2]) in edge_weights:\n",
    "            edge_weights[(parsed_cnf[i+1], parsed_cnf[i+2])] = edge_weights[(parsed_cnf[i+1], parsed_cnf[i+2])] + 1\n",
    "        else: # Otherwise, set the weight value to 1\n",
    "            edge_weights[(parsed_cnf[i+1], parsed_cnf[i+2])] = 1\n",
    "    \n",
    "    # Add all the \"clause edges\" to the graph after calculating all the weights needed\n",
    "    for (u,v) in edge_weights.keys():\n",
    "        G.add_edge(u, v, weight=edge_weights[(u,v)], color=\"b\")\n",
    "\n",
    "\n",
    "    # Add all the \"constraint\" edges to the graph, with a weight of penalty_factor each\n",
    "    for var in variables:\n",
    "        # Check if both x and not(x) exist in the CNF (otherwise we don't need to add the penalty term)\n",
    "        if var in cnf_variables and var + num_variables in cnf_variables:\n",
    "            G.add_edge(var, var+num_variables, weight=penalty_factor, color=\"r\")    \n",
    "    \n",
    "    return G"
   ]
  },
  {
   "attachments": {},
   "cell_type": "markdown",
   "metadata": {},
   "source": [
    "### Display The Graph\n",
    "- The graph contains vertices in $\\{0, ..., 2N-1\\}$\n",
    "- Blue edges are clause edges\n",
    "- Red edges are penalty edges"
   ]
  },
  {
   "cell_type": "code",
   "execution_count": 6,
   "metadata": {},
   "outputs": [
    {
     "data": {
      "image/png": "[encoded data removed]",
      "text/plain": [
       "<Figure size 640x480 with 1 Axes>"
      ]
     },
     "metadata": {},
     "output_type": "display_data"
    }
   ],
   "source": [
    "M = 10 # penalty factor to ensure some x_i is not equal to not(x_i)\n",
    "G = create_maxcut_graph(parsed_cnf, num_variables, M)\n",
    "edge_colors = [G[u][v]['color'] for u,v in G.edges]\n",
    "nx.draw_circular(G, with_labels=True, edge_color=edge_colors, node_color=\"lightblue\")"
   ]
  },
  {
   "attachments": {},
   "cell_type": "markdown",
   "metadata": {},
   "source": [
    "## 3) Theoretical Cut Value\n",
    "\n",
    "### 3.1) NAE-3SAT Minimization Problem\n",
    "Given a CNF composed of C clauses and with penalty factor M:\n",
    "If the values $\\{w_1, ..., w_{2N}\\}$ satisfy the 3-SAT CNF with the NAE constraint, then (proven):\n",
    "$\\begin{equation}\n",
    "\\min\\limits_{w_i}\\sum\\limits_{j = 1}^{C}(w_1^{(j)}w_2^{(j)} + w_1^{(j)}w_3^{(j)} + w_2^{(j)}w_3^{(j)}) + M\\sum\\limits_{i\\in neg\\_var} w_iw_{i+N} = -C-M\\lvert \\texttt{neg\\_var}\\rvert\n",
    "\\end{equation}$\n",
    "where $w_k^{(j)}$ is variable $k$ in clause $j$, and $\\texttt{neg\\_var}$ is the set of variable indices $i$ such that both $w_i$ and $w_{i+N}$ appear in the parsed CNF. \n",
    "\n",
    "The minimization problem can be transformed into the following:\n",
    "$\\begin{equation}\n",
    "\\min\\limits_{x \\in \\{-1,1\\}^{|V|}} \\left\\{\\sum\\limits_{(i,j) \\in E}W_{ij}x_ix_j\\right\\}\n",
    "\\end{equation}$\n",
    "where $W_{ij}$ is the weight of edge $(i, j)$ from the previously obtained graph (that weight is equal to the number of triangles that share that edge if\n",
    "$j \\neq i + n$, and $M$ otherwise)\n",
    "\n",
    "### 3.2) Link Between NAE-3SAT and Weighted Max-Cut\n",
    "The weighted Max-Cut problem is the following:\n",
    "$\\begin{equation}\n",
    "        \\max\\limits_{x \\in \\{-1,1\\}^{|V|}} \\left\\{\\frac{1}{2}\\sum\\limits_{(i,j) \\in E} W_{ij}(1-x_ix_j)\\right\\} = \\max\\limits_{x \\in \\{-1,1\\}^{|V|}} \\left\\{\\frac{1}{2}\\sum\\limits_{(i,j)\\in E}W_{ij} - \\frac{1}{2}\\sum\\limits_{(i,j) \\in E} W_{ij}x_ix_j\\right\\}\n",
    "\\end{equation}$\n",
    "where $x_k \\in \\{-1, 1\\}$\n",
    "Since we want to maximize this, we would like to minimize the second sum (because of the $-$ sign). However this second sum was computed before and is equal to $-C-M\\lvert\\texttt{neg\\_var}\\rvert$ if $x$ satisfies the CNF with the NAE constraint. \n",
    "\n",
    "Therefore, if $x$ satisfies the CNF with NAE constraint, then the theoretical Max-Cut value is:\n",
    "$\\begin{equation}\n",
    "\\text{MaxCutValue}_{theory} = \\frac{1}{2}\\sum\\limits_{(i,j)\\in E}W_{ij}+\\frac{1}{2}(C+M|neg\\_var|)\n",
    "\\end{equation}$\n",
    "\n",
    "In the next cell we compute this value from the original CNF and the (equivalent) graph."
   ]
  },
  {
   "cell_type": "code",
   "execution_count": 9,
   "metadata": {},
   "outputs": [],
   "source": [
    "# Get the theoretical Max-Cut value according to the previous formula\n",
    "def get_theoretical_maxcut_value(G, parsed_cnf, num_variables, M):\n",
    "    \"\"\"Compute the theoretical max-cut value\n",
    "    \n",
    "    Parameters\n",
    "    ----------\n",
    "    G : nx.Graph\n",
    "        the graph whose max-cut to compute\n",
    "    parsed_cnf : list(int)\n",
    "        the parsed cnf containing values in [0, 2N-1]\n",
    "    num_variables: int\n",
    "        the number of variables used in the CNF (= N)\n",
    "    M : int\n",
    "        the penalty factor for consistency\n",
    "\n",
    "    Returns\n",
    "    -------\n",
    "    float\n",
    "        the theoretical max-cut value\n",
    "    \"\"\"\n",
    "    # cnf_contribution is the second part of the MaxCutValue_theory above\n",
    "    cnf_contribution = -len(parsed_cnf)/3 # == -C\n",
    "    variables = set(range(num_variables))\n",
    "    for i in variables:\n",
    "        if i in parsed_cnf and i + num_variables in parsed_cnf:\n",
    "            cnf_contribution -= M\n",
    "    # weight_contribution is the first part of the MaxCutValue_theory above\n",
    "    weight_contribution = G.size(weight=\"weight\")\n",
    "    return 1/2 * weight_contribution - 1/2 * cnf_contribution"
   ]
  },
  {
   "cell_type": "code",
   "execution_count": 10,
   "metadata": {},
   "outputs": [
    {
     "name": "stdout",
     "output_type": "stream",
     "text": [
      "Theoretical Max-Cut value: 38.0\n"
     ]
    }
   ],
   "source": [
    "theoretical_maxcut_value = get_theoretical_maxcut_value(G, parsed_cnf, num_variables, M)\n",
    "print(f\"Theoretical Max-Cut value: {theoretical_maxcut_value}\")"
   ]
  },
  {
   "attachments": {},
   "cell_type": "markdown",
   "metadata": {},
   "source": [
    "## 4) Compute the Max-Cut value Experimentally\n",
    "We can choose to either solve only the relaxed problem (`should_round=False`) or the relaxed + rounding version (`should_round=True`)."
   ]
  },
  {
   "cell_type": "code",
   "execution_count": 9,
   "metadata": {},
   "outputs": [],
   "source": [
    "def compute_max_cut_qrao(G, rounding_scheme, intermediate_results, should_round=False):\n",
    "    \"\"\"Compute the relaxed max-cut (or rounded max-cut if should_round=True) using the protoype-qrao library\n",
    "\n",
    "    Parameters\n",
    "    ----------\n",
    "    G : nx.Graph\n",
    "        the graph whose max-cut to compute\n",
    "    rounding_scheme: RoundingScheme\n",
    "        the rounding technique to use (ignored when should_round=False)\n",
    "    intermediate_results: list(float)\n",
    "        the intermediate energy values computed from the eigensolver \n",
    "    should_round: bool\n",
    "        if False, we do not perform rounding, otherwise we perform rounding  \n",
    "\n",
    "    Returns\n",
    "    -------\n",
    "    Either a float (non-rounded, relaxed max-cut value) or a list[int] containing the solution to the 3SAT-NAE problem\n",
    "    \"\"\"\n",
    "\n",
    "    maxcut = Maxcut(G)\n",
    "    problem = maxcut.to_quadratic_program()\n",
    "    encoding = QuantumRandomAccessEncoding(3) # Use (3,1)-QRAC\n",
    "    encoding.encode(problem)\n",
    "    ansatz = EfficientSU2(encoding.num_qubits, reps=3)\n",
    "    threads = multiprocessing.cpu_count()\n",
    "\n",
    "    # results will be either a number (if we solve the relaxed version), or \n",
    "    # an array of values in {0,1} (if we perform rounding)\n",
    "    results = None \n",
    "    vqe = VQE(\n",
    "        Estimator(        \n",
    "            approximation=True,\n",
    "            abelian_grouping=False,\n",
    "            backend_options={\"method\": method, \"device\": device, \"max_parallel_experiments\": threads},\n",
    "        ),\n",
    "        ansatz,\n",
    "        NFT(maxiter=96),\n",
    "        # for now let's have this callback\n",
    "        callback= lambda c,p,value,m: intermediate_results.append(problem.objective.sense.value * (encoding.offset + value))\n",
    "    )\n",
    "    # Create the qrao instance\n",
    "    qrao = QuantumRandomAccessOptimizer(encoding=encoding, min_eigen_solver=vqe, rounding_scheme=rounding_scheme)\n",
    "\n",
    "    if not should_round:\n",
    "        # We just need to solve the relaxed problem\n",
    "        eigensolver_result, _ = qrao.solve_relaxed()\n",
    "        # Relaxed MaxCut Value (computed from the gotten minimimum eigenvalue)\n",
    "        results = problem.objective.sense.value * (encoding.offset + eigensolver_result.eigenvalue.real)\n",
    "    else:\n",
    "        # Otherwise we solve the relaxed problem but also perform rounding at the end\n",
    "        rounded_results = qrao.solve()\n",
    "        results = rounded_results.x # variable assignments\n",
    "    return results"
   ]
  },
  {
   "attachments": {},
   "cell_type": "markdown",
   "metadata": {},
   "source": [
    "### Compute Rounded and Non-Rounded Results\n",
    "Let us compute the non-rounded (= relaxed) and the rounded solutions of the Max-Cut problem in the cells below"
   ]
  },
  {
   "cell_type": "code",
   "execution_count": 10,
   "metadata": {},
   "outputs": [
    {
     "name": "stdout",
     "output_type": "stream",
     "text": [
      "Relaxed Max-Cut Value: 156.79717726479373\n",
      "Maybe NAE-SAT\n"
     ]
    }
   ],
   "source": [
    "# Compute relaxed max-cut value\n",
    "\n",
    "rounding_scheme = MagicRounding(QuantumInstance(backend=backend, shots=1024))\n",
    "intermediate_results = []\n",
    "relaxed_maxcut_value = compute_max_cut_qrao(G, rounding_scheme, intermediate_results, should_round=False)\n",
    "print(f\"Relaxed Max-Cut Value: {relaxed_maxcut_value}\")\n",
    "\n",
    "# The relaxed maxcut value should be >= than the theoretical value, so if it is not, then we know the CNF is not NAE-SAT\n",
    "if relaxed_maxcut_value < theoretical_maxcut_value:\n",
    "    print(\"Not NAE-SAT\")\n",
    "# Otherwise we cannot conclude anything, the CNF might be NAE-SAT or not.\n",
    "else:\n",
    "    print(\"Maybe NAE-SAT\")"
   ]
  },
  {
   "attachments": {},
   "cell_type": "markdown",
   "metadata": {},
   "source": [
    "### Plot the Intermediate Results (for the case when we don't perform rounding)"
   ]
  },
  {
   "cell_type": "code",
   "execution_count": 11,
   "metadata": {},
   "outputs": [
    {
     "data": {
      "text/plain": [
       "<matplotlib.legend.Legend at 0x7ff48c078550>"
      ]
     },
     "execution_count": 11,
     "metadata": {},
     "output_type": "execute_result"
    },
    {
     "data": {
      "image/png": "[encoded data removed]",
      "text/plain": [
       "<Figure size 640x480 with 1 Axes>"
      ]
     },
     "metadata": {},
     "output_type": "display_data"
    }
   ],
   "source": [
    "fig, ax = plt.subplots()\n",
    "ax.plot(intermediate_results, label=\"relaxed max cut value\")\n",
    "ax.hlines(y=theoretical_maxcut_value, xmin=0, xmax=len(intermediate_results), linewidth=1, linestyles=\"--\", color='r', label=\"theoretical max cut value\")\n",
    "plt.legend()"
   ]
  },
  {
   "attachments": {},
   "cell_type": "markdown",
   "metadata": {},
   "source": [
    "### Calculate the exact values for $x$\n",
    "We can perform rounding to get the values for $x$ and see if they satisfy the CNF"
   ]
  },
  {
   "cell_type": "code",
   "execution_count": 12,
   "metadata": {},
   "outputs": [
    {
     "name": "stdout",
     "output_type": "stream",
     "text": [
      "Variable assignments:\n",
      "[1 0 1 1 0 0 0 1 0 0 1 1]\n"
     ]
    }
   ],
   "source": [
    "# Compute rounded results\n",
    "rounding_scheme = MagicRounding(QuantumInstance(backend=backend, shots=1024))\n",
    "intermediate_results = []\n",
    "x_values = compute_max_cut_qrao(G, rounding_scheme, intermediate_results, should_round=True)\n",
    "print(\"Variable assignments:\")\n",
    "\n",
    "# The first N values are the non-negated variables, and the second N values are the negated ones\n",
    "print(x_values)"
   ]
  },
  {
   "attachments": {},
   "cell_type": "markdown",
   "metadata": {},
   "source": [
    "## 5) Calculate the Error (Only Done After Rounding)\n",
    "To calculate the error, we will look at the results (`x_values`) which are the values (0 or 1) we assign to the variables, and check two things:\n",
    "- NAE-SAT errors: If a clause is not NAE-SAT, then we add 1 to the NAE-SAT error\n",
    "- Consistency errors: If a variable is the same as its negation, we add 1 to the consistency error"
   ]
  },
  {
   "cell_type": "code",
   "execution_count": 13,
   "metadata": {},
   "outputs": [],
   "source": [
    "def calculate_error(parsed_cnf, num_variables, result):\n",
    "    \"\"\"Calculate the NAE\n",
    "    \"\"\"\n",
    "    nae_sat_error = 0\n",
    "    consistency_error = 0\n",
    "    # Iterate over the clauses of the CNF\n",
    "    for i in range(0, len(parsed_cnf), 3):\n",
    "        v1 = result[parsed_cnf[i]]\n",
    "        v2 = result[parsed_cnf[i+1]]\n",
    "        v3 = result[parsed_cnf[i+2]]\n",
    "        # if clause is satisfied but not SAT-NAE, or if the clause is not satisfied, we add 1 to nae_sat_error\n",
    "        if v1 + v2 + v3 == 3 or v1 + v2 + v3 == 0:\n",
    "            nae_sat_error += 1\n",
    "    \n",
    "    for i in range(num_variables):\n",
    "        # if a variable is the same as its negation, we add 1 to consistency_error\n",
    "        if  i + num_variables < len(result) and result[i] == result[i+num_variables]:\n",
    "            consistency_error += 1\n",
    "    return nae_sat_error, consistency_error"
   ]
  },
  {
   "cell_type": "code",
   "execution_count": 14,
   "metadata": {},
   "outputs": [
    {
     "name": "stdout",
     "output_type": "stream",
     "text": [
      "Total error = 0 (NSE: 0, CE: 0)\n",
      "Success! The CNF is NAE-SAT\n"
     ]
    }
   ],
   "source": [
    "nae_sat_error, consistency_error = calculate_error(parsed_cnf, num_variables, x_values)\n",
    "total_error = nae_sat_error + consistency_error\n",
    "print(f\"Total error = {total_error} (NSE: {nae_sat_error}, CE: {consistency_error})\")\n",
    "if total_error == 0:\n",
    "    print(\"Success! The CNF is NAE-SAT\")"
   ]
  }
 ],
 "metadata": {
  "kernelspec": {
   "display_name": "Python 3 (ipykernel)",
   "language": "python",
   "name": "python3"
  },
  "language_info": {
   "codemirror_mode": {
    "name": "ipython",
    "version": 3
   },
   "file_extension": ".py",
   "mimetype": "text/x-python",
   "name": "python",
   "nbconvert_exporter": "python",
   "pygments_lexer": "ipython3",
   "version": "3.10.6"
  }
 },
 "nbformat": 4,
 "nbformat_minor": 2
}
