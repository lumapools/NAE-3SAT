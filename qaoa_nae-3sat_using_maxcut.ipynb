{
 "cells": [
  {
   "cell_type": "code",
   "execution_count": 4,
   "metadata": {},
   "outputs": [],
   "source": [
    "from qiskit_ibm_runtime import Session\n",
    "from qiskit.providers.aer import AerSimulator\n",
    "from qiskit.algorithms.minimum_eigen_solvers import QAOA\n",
    "from qiskit.circuit.library import QAOAAnsatz\n",
    "from qiskit.algorithms.optimizers import COBYLA\n",
    "from qiskit_ibm_runtime import QiskitRuntimeService\n",
    "import networkx as nx\n",
    "from qiskit_optimization.translators import to_ising\n",
    "from qiskit_optimization.applications import Maxcut"
   ]
  },
  {
   "cell_type": "code",
   "execution_count": null,
   "metadata": {},
   "outputs": [],
   "source": [
    "service = QiskitRuntimeService()\n",
    "method = \"statevector\"\n",
    "device = \"CPU\"\n",
    "backend = AerSimulator(method=method, device=device)"
   ]
  },
  {
   "attachments": {},
   "cell_type": "markdown",
   "metadata": {},
   "source": [
    "## 1) Input CNF\n",
    "A 3SAT CNF is of the form $(x_1 \\lor x_2 \\lor x_3) \\land (\\neg x_2 \\lor x_3 \\lor x_4)$ for example\n",
    "\n",
    "In this notebook, we will assume that the cnf variables ($x_1, x_2, ...$) are given as integers (starting from 0) instead of strings, i.e.\n",
    "$x_1 \\mapsto 0$, $x_2 \\mapsto 1$, etc... This is not very intuitive but it makes parsing easier. We might change it later.\n",
    "\n",
    "- $\\neg$ operator: The negation is denoted by an `n` in front of a particular variable $\\implies$ Ex: $\\neg x_2 \\mapsto$ `n3`\n",
    "- $\\lor$ operator: The $\\lor$ operator is denoted by a space between operands $\\implies$ Ex: $x_1 \\lor \\neg x_2 \\lor x_3 \\mapsto$ `0 n1 2` \n",
    "- $\\land$ operator: The $\\land$ operator is denoted by a comma (`,`) between clauses $\\implies$ Ex: $(x_1 \\lor \\neg x_2 \\lor x_3) \\land (\\neg x_1 \\lor \\neg x_2 \\lor \\neg x_3) \\mapsto$ `0 n1 2,n0 n1 n2`\n",
    "\n",
    "Therefore, for example, given the following CNF:\n",
    "\n",
    "$(x_1 \\lor x_2 \\lor \\neg x_3) \\land (x_3 \\lor \\neg x_1 \\lor \\neg x_6) \\land (\\neg x_2 \\lor x_4 \\lor x_5) \\land (\\neg x_4 \\lor \\neg x_5 \\lor x_6)$\n",
    "\n",
    "the input CNF to this program will be formulated as\n",
    "\n",
    "`0 1 n2,2 n0 n5,n1 3 4,n3 n4 5` (as a string)\n"
   ]
  },
  {
   "attachments": {},
   "cell_type": "markdown",
   "metadata": {},
   "source": [
    "### Parsing the Input CNF\n",
    "Given an input CNF, we want to parse is so that\n",
    "- Instead of having variables `0`, `1`, `2`..., `n0`, `n1`, `n2`, ... we will work with only integers from now on, therefore we will transform the input CNF into a list of integers such that `x` $\\mapsto$ `x`, and `nx` $\\mapsto$ `x+N` (where `N` is the number of variables)\n",
    "- Ex: `0 1 n2,2 n0 n5,n1 3 4,n3 n4 5` will be parsed to `parsed_cnf = [0,1,8,2,6,11,7,3,4,9,10,5]`\n",
    "- We don't need commas or spaces anymore since we know that the input is a 3SAT CNF, so we know the first clause is represented by `(0,1,8)`, the second one by `(2,6,11)`, etc.\n",
    "\n",
    "The function `parse_cnf()` will ask for two inputs from the user:\n",
    "- The number of variables (here we count $x$ and $\\neg x$ as one variable), so the CNF above has `6` variables.\n",
    "- The CNF (ex: `0 1 n2,2 n0 n5,n1 3 4,n3 n4 5`)"
   ]
  },
  {
   "cell_type": "code",
   "execution_count": 5,
   "metadata": {},
   "outputs": [],
   "source": [
    "def parse_cnf():\n",
    "    \"\"\"Asks the user to input the number of variables used and the CNF itself, and parses the CNF\n",
    "\n",
    "    Returns\n",
    "    -------\n",
    "    list(int)\n",
    "        the parsed CNF according to the conventions we decide to use\n",
    "    \"\"\"\n",
    "    num_variables = int(input(\"Enter the number of variables: \"))\n",
    "    cnf = input(\"Enter the CNF of the form above (ex: 0 1 2,0 n1 2): \")\n",
    "    clauses = cnf.replace(\",\", \" \")\n",
    "    parsed_cnf = clauses.split(\" \")\n",
    "    for i in range(len(parsed_cnf)):\n",
    "        if parsed_cnf[i].startswith(\"n\"):\n",
    "            parsed_cnf[i] = str(int(parsed_cnf[i][1:])+num_variables)\n",
    "    parsed_cnf = list(map(lambda elem: int(elem), parsed_cnf))\n",
    "    return parsed_cnf, num_variables"
   ]
  },
  {
   "cell_type": "code",
   "execution_count": 17,
   "metadata": {},
   "outputs": [
    {
     "name": "stdout",
     "output_type": "stream",
     "text": [
      "Parsed CNF: [0, 1, 8, 2, 6, 11, 7, 3, 4, 9, 10, 5]\n"
     ]
    }
   ],
   "source": [
    "# Example: \n",
    "# - Number of variables: 6\n",
    "# - CNF: 0 1 n2,2 n0 n5,n1 3 4,n3 n4 5\n",
    "parsed_cnf, num_variables = parse_cnf()\n",
    "print(f\"Parsed CNF: {parsed_cnf}\")"
   ]
  },
  {
   "cell_type": "code",
   "execution_count": 21,
   "metadata": {},
   "outputs": [],
   "source": [
    "M = 30 # Penalty Factor\n",
    "num_negated_variables = 0\n",
    "for i in range(num_variables):\n",
    "    if i in parsed_cnf and i+num_variables in parsed_cnf:\n",
    "        num_negated_variables += 1\n",
    "theoretical_gse = -len(parsed_cnf)/3 -M*num_negated_variables"
   ]
  },
  {
   "attachments": {},
   "cell_type": "markdown",
   "metadata": {},
   "source": [
    "## 2) Create a graph from the CNF\n",
    "Let us transform the CNF into a graph $G$, where\n",
    "- Each clause maps to a triangle\n",
    "- The weight of an edge $(i,j)$, $W_{ij}$, is set to $M$ if $j = i+N$, otherwise it is set to the number of triangles that share the edge $(i,j)$."
   ]
  },
  {
   "cell_type": "code",
   "execution_count": 6,
   "metadata": {},
   "outputs": [],
   "source": [
    "# Create a graph G from an already-parsed CNF\n",
    "def create_graph_from_cnf(parsed_cnf, num_variables, penalty_factor):\n",
    "    \"\"\"Creates a weighted graph from a CNF\n",
    "\n",
    "    Parameters\n",
    "    ----------\n",
    "    parsed_cnf : list(int)\n",
    "        the parsed cnf containing values in [0, 2N-1]\n",
    "    num_variables : int\n",
    "        the number of variables used in the CNF (= N)\n",
    "    penalty_factor: int\n",
    "        the penalty factor used for assuring consistency\n",
    "\n",
    "    Returns\n",
    "    -------\n",
    "    nx.Graph\n",
    "        the obtained graph\n",
    "    \"\"\"\n",
    "    \n",
    "    # All the variables used in the parsed cnf (ranging from 0 to 2N-1)\n",
    "    cnf_variables = set(parsed_cnf)\n",
    "\n",
    "    # All the variables used in the original CNF (ranging from 0 to N-1)\n",
    "    variables = set(range(num_variables))\n",
    "\n",
    "    # Will contain the weight associated with each edge (i,j)\n",
    "    edge_weights = {}\n",
    "\n",
    "    G = nx.Graph()\n",
    "\n",
    "    # Create the vertices\n",
    "    vertices = list(cnf_variables)\n",
    "    G.add_nodes_from(vertices)\n",
    "    # Iterate over the parsed CNF per clause (3 elements by 3 elements)\n",
    "    for i in range(0, len(parsed_cnf), 3):\n",
    "\n",
    "        # First edge\n",
    "        # If that edge already exists in the map, add 1 to its value\n",
    "        if (parsed_cnf[i], parsed_cnf[i+1]) in edge_weights:\n",
    "            edge_weights[(parsed_cnf[i], parsed_cnf[i+1])] = edge_weights[(parsed_cnf[i], parsed_cnf[i+1])] + 1\n",
    "        else: # Otherwise, set the weight value to 1\n",
    "            edge_weights[(parsed_cnf[i], parsed_cnf[i+1])] = 1\n",
    "\n",
    "        # Second edge\n",
    "        # If that edge already exists in the map, add 1 to its value\n",
    "        if (parsed_cnf[i], parsed_cnf[i+2]) in edge_weights:\n",
    "            edge_weights[(parsed_cnf[i], parsed_cnf[i+2])] = edge_weights[(parsed_cnf[i], parsed_cnf[i+2])] + 1\n",
    "        else: # Otherwise, set the weight value to 1\n",
    "            edge_weights[(parsed_cnf[i], parsed_cnf[i+2])] = 1\n",
    "\n",
    "        # Third edge\n",
    "        # If that edge already exists in the map, add 1 to its value\n",
    "        if (parsed_cnf[i+1], parsed_cnf[i+2]) in edge_weights:\n",
    "            edge_weights[(parsed_cnf[i+1], parsed_cnf[i+2])] = edge_weights[(parsed_cnf[i+1], parsed_cnf[i+2])] + 1\n",
    "        else: # Otherwise, set the weight value to 1\n",
    "            edge_weights[(parsed_cnf[i+1], parsed_cnf[i+2])] = 1\n",
    "    \n",
    "    # Add all the \"clause edges\" to the graph after calculating all the weights needed\n",
    "    for (u,v) in edge_weights.keys():\n",
    "        G.add_edge(u, v, weight=edge_weights[(u,v)], color=\"b\")\n",
    "\n",
    "\n",
    "    # Add all the \"constraint\" edges to the graph, with a weight of penalty_factor each\n",
    "    for var in variables:\n",
    "        # Check if both x and not(x) exist in the CNF (otherwise we don't need to add the penalty term)\n",
    "        if var in cnf_variables and var + num_variables in cnf_variables:\n",
    "            G.add_edge(var, var+num_variables, weight=penalty_factor, color=\"r\")    \n",
    "    \n",
    "    return G"
   ]
  },
  {
   "cell_type": "code",
   "execution_count": 23,
   "metadata": {},
   "outputs": [
    {
     "data": {
      "image/png": "[encoded data removed]",
      "text/plain": [
       "<Figure size 640x480 with 1 Axes>"
      ]
     },
     "metadata": {},
     "output_type": "display_data"
    }
   ],
   "source": [
    "G = create_graph_from_cnf(parsed_cnf, num_variables, M)\n",
    "nx.draw_circular(G, with_labels=True, edge_color=[G[u][v]['color'] for u,v in G.edges])"
   ]
  },
  {
   "attachments": {},
   "cell_type": "markdown",
   "metadata": {},
   "source": [
    "## 3) Create a quadratic program for the MaxCut Problem\n",
    "Using the `Maxcut` class from the `qiskit_optimization.applications` package, we can create the Max-Cut quadratic program from our graph G.\n"
   ]
  },
  {
   "cell_type": "code",
   "execution_count": 7,
   "metadata": {},
   "outputs": [],
   "source": [
    "def create_quadratic_program(G):\n",
    "    \"\"\" Creates a quadratic program from a graph G\n",
    "\n",
    "    Parameters\n",
    "    ----------\n",
    "    G: nx.Graph\n",
    "        the input graph\n",
    "    \n",
    "    Returns\n",
    "    -------\n",
    "    QuadraticProgram\n",
    "        the resulting quadratic program formulation\n",
    "    \"\"\"\n",
    "    maxcut = Maxcut(G)\n",
    "    return maxcut.to_quadratic_program()"
   ]
  },
  {
   "attachments": {},
   "cell_type": "markdown",
   "metadata": {},
   "source": [
    "## 4) Convert to Hamiltonian\n",
    "We can now convert the model to a `QuadraticProgram` to a Hamiltonian using `to_ising(QP_instance)`"
   ]
  },
  {
   "cell_type": "code",
   "execution_count": null,
   "metadata": {},
   "outputs": [],
   "source": [
    "nae3sat_qp = create_quadratic_program(G)\n",
    "hamiltonian, offset = to_ising(nae3sat_qp)\n",
    "print(hamiltonian)"
   ]
  },
  {
   "cell_type": "code",
   "execution_count": 8,
   "metadata": {},
   "outputs": [],
   "source": [
    "# Cell copied from https://qiskit.org/documentation/tutorials/algorithms/05_qaoa.html\n",
    "from collections import OrderedDict\n",
    "from qiskit.opflow import StateFn\n",
    "import numpy as np\n",
    "\n",
    "\n",
    "def sample_most_likely(state_vector):\n",
    "    \"\"\"Compute the most likely binary string from state vector.\n",
    "    Args:\n",
    "        state_vector (numpy.ndarray or dict): state vector or counts.\n",
    "    Returns:\n",
    "        numpy.ndarray: binary string as numpy.ndarray of ints.\n",
    "    \"\"\"\n",
    "    if isinstance(state_vector, (OrderedDict, dict)):\n",
    "        # get the binary string with the largest count\n",
    "        binary_string = sorted(state_vector.items(), key=lambda kv: kv[1])[-1][0]\n",
    "        x = np.asarray([int(y) for y in reversed(list(binary_string))])\n",
    "        return x\n",
    "    elif isinstance(state_vector, StateFn):\n",
    "        binary_string = list(state_vector.sample().keys())[0]\n",
    "        x = np.asarray([int(y) for y in reversed(list(binary_string))])\n",
    "        return x\n",
    "    else:\n",
    "        n = int(np.log2(state_vector.shape[0]))\n",
    "        k = np.argmax(np.abs(state_vector))\n",
    "        x = np.zeros(n)\n",
    "        for i in range(n):\n",
    "            x[i] = k % 2\n",
    "            k >>= 1\n",
    "        return x"
   ]
  },
  {
   "attachments": {},
   "cell_type": "markdown",
   "metadata": {},
   "source": [
    "## 4) Error Calculation\n",
    "To calculate the error, we will look at the results (`eigenstate`) which are the values (0 or 1) we assign to the variables, and check two things:\n",
    "- NAE-SAT errors: If a clause is not NAE-SAT, then we add 1 to the NAE-SAT error\n",
    "- Consistency errors: If a variable is the same as its negation, we add 1 to the consistency error\n",
    "\n",
    "Error calculation will be done after running QAOA"
   ]
  },
  {
   "cell_type": "code",
   "execution_count": 9,
   "metadata": {},
   "outputs": [],
   "source": [
    "def calculate_error(parsed_cnf, num_variables, result):\n",
    "    \"\"\"Calculate the NAE-3SAT error\n",
    "\n",
    "    Parameters\n",
    "    ----------\n",
    "    parsed_cnf: list(int)\n",
    "        the initial parsed CNF\n",
    "    num_variables: int\n",
    "        the number of variables used (without distinguishing x and not x)\n",
    "    result: list(int)\n",
    "        the resulting variable assignments\n",
    "\n",
    "    Returns\n",
    "    int, int\n",
    "        the NAE-SAT error and the consistency error, respectively\n",
    "    \"\"\"\n",
    "    \n",
    "    nae_sat_error = 0\n",
    "    consistency_error = 0\n",
    "    # Iterate over the clauses of the CNF\n",
    "    for i in range(0, len(parsed_cnf), 3):\n",
    "        v1 = result[parsed_cnf[i]]\n",
    "        v2 = result[parsed_cnf[i+1]]\n",
    "        v3 = result[parsed_cnf[i+2]]\n",
    "        # if clause is satisfied but not SAT-NAE, or if the clause is not satisfied, we add 1 to nae_sat_error\n",
    "        if v1 + v2 + v3 == 3 or v1 + v2 + v3 == 0:\n",
    "            nae_sat_error += 1\n",
    "    \n",
    "    for i in range(num_variables):\n",
    "        # if a variable is the same as its negation, we add 1 to consistency_error\n",
    "        if  i + num_variables < len(result) and result[i] == result[i+num_variables]:\n",
    "            consistency_error += 1\n",
    "    return nae_sat_error, consistency_error"
   ]
  },
  {
   "attachments": {},
   "cell_type": "markdown",
   "metadata": {},
   "source": [
    "## 5) Solve on a Quantum Computer using QAOA\n",
    "We can now input this Hamiltonian to QAOA to compute its ground state energy and the corresponding eigenstate (that will contain the solution to our problem)"
   ]
  },
  {
   "cell_type": "code",
   "execution_count": null,
   "metadata": {},
   "outputs": [],
   "source": [
    "# QAOA Settings\n",
    "ansatz = QAOAAnsatz(hamiltonian)\n",
    "session = Session(backend=backend)\n",
    "service = QiskitRuntimeService()\n",
    "\n",
    "# Test Settings\n",
    "num_successes = 0\n",
    "num_runs = 20\n",
    "\n",
    "# The QAOA\n",
    "qaoa = QAOA(optimizer=COBYLA(maxiter=1000), quantum_instance=backend, reps=1)\n",
    "\n",
    "output = None # this will contain QAOA's output when it has done computing\n",
    "full_output = None\n",
    "\n",
    "print(f\"Theoetical Ground State Energy: {theoretical_gse}\")\n",
    "\n",
    "# Run num_runs times\n",
    "for i in range(num_runs):\n",
    "    with Session(service=service,backend=backend) as session:\n",
    "        output = qaoa.compute_minimum_eigenvalue(hamiltonian)\n",
    "        full_output = output\n",
    "\n",
    "    # The results of QAOA\n",
    "    eigenstate = list(map(lambda x: int(x), list(sample_most_likely(output.eigenstate))))\n",
    "    eigenvalue = output.eigenvalue.real + offset\n",
    "\n",
    "    # Error calculation\n",
    "    nae_sat_error, consistency_error = calculate_error(parsed_cnf, num_variables, eigenstate)\n",
    "    if nae_sat_error + consistency_error == 0:\n",
    "        print(f\"Run {i+1}: Success (eigval = {eigenvalue}, eigvec = {eigenstate})\")\n",
    "        num_successes += 1\n",
    "    else:\n",
    "        print(f\"Run {i+1}: Failure (eigval = {eigenvalue}, eigvec = {eigenstate})\")\n",
    "\n",
    "print(f\"Success Rate: {100*num_successes/num_runs}%\")"
   ]
  }
 ],
 "metadata": {
  "kernelspec": {
   "display_name": "Python 3",
   "language": "python",
   "name": "python3"
  },
  "language_info": {
   "codemirror_mode": {
    "name": "ipython",
    "version": 3
   },
   "file_extension": ".py",
   "mimetype": "text/x-python",
   "name": "python",
   "nbconvert_exporter": "python",
   "pygments_lexer": "ipython3",
   "version": "3.10.6"
  },
  "orig_nbformat": 4
 },
 "nbformat": 4,
 "nbformat_minor": 2
}
